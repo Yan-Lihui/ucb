{
  "nbformat": 4,
  "nbformat_minor": 0,
  "metadata": {
    "kernelspec": {
      "display_name": "Python 3",
      "language": "python",
      "name": "python3"
    },
    "language_info": {
      "codemirror_mode": {
        "name": "ipython",
        "version": 3
      },
      "file_extension": ".py",
      "mimetype": "text/x-python",
      "name": "python",
      "nbconvert_exporter": "python",
      "pygments_lexer": "ipython3",
      "version": "3.6.9"
    },
    "colab": {
      "name": "Lab 5: Skip-gram",
      "provenance": [],
      "collapsed_sections": [],
      "toc_visible": true,
      "include_colab_link": true
    }
  },
  "cells": [
    {
      "cell_type": "markdown",
      "metadata": {
        "id": "view-in-github",
        "colab_type": "text"
      },
      "source": [
        "<a href=\"https://colab.research.google.com/github/Yan-Lihui/ucb/blob/master/Lab_6_Skip_gram.ipynb\" target=\"_parent\"><img src=\"https://colab.research.google.com/assets/colab-badge.svg\" alt=\"Open In Colab\"/></a>"
      ]
    },
    {
      "cell_type": "code",
      "metadata": {
        "id": "IDlU-kLCKDVZ",
        "colab_type": "code",
        "colab": {}
      },
      "source": [
        "NAME = \"Lihui Yan\""
      ],
      "execution_count": null,
      "outputs": []
    },
    {
      "cell_type": "markdown",
      "metadata": {
        "id": "kW9zL4V6KDVc",
        "colab_type": "text"
      },
      "source": [
        "---"
      ]
    },
    {
      "cell_type": "markdown",
      "metadata": {
        "deletable": false,
        "editable": false,
        "nbgrader": {
          "checksum": "9a0ec075584699a44c46933457b0a8ba",
          "grade": false,
          "grade_id": "cell-a910b376742d04c0",
          "locked": true,
          "schema_version": 1,
          "solution": false
        },
        "id": "ECD5r2hFKDVd",
        "colab_type": "text"
      },
      "source": [
        "# Lab 5: Skip Gram\n",
        "\n",
        "**Please read the following instructions very carefully**\n",
        "\n",
        "## Working on the assignment / FAQs\n",
        "- **Always use the seed/random_state as *42* wherever applicable** (This is to ensure repeatability in answers, across students and coding environments) \n",
        "- The type of question and the points they carry are indicated in each question cell\n",
        "- To avoid any ambiguity, each question also specifies what *value* must be set. Note that these are dummy values and not the answers\n",
        "- If an autograded question has multiple answers (due to differences in handling NaNs, zeros etc.), all answers will be considered.\n",
        "- You can delete the `raise NotImplementedError()`\n",
        "- **Submitting the assignment** : Download the '.ipynb' file from Colab and upload it to bcourses. Do not delete any outputs from cells before submitting.\n",
        "- That's about it. Happy coding!\n",
        "\n",
        "\n",
        "Available software:\n",
        " - Python's Gensim module: https://radimrehurek.com/gensim/ (install using pip)\n",
        " - Sklearn’s  TSNE module in case you use TSNE to reduce dimension (optional)\n",
        " - Python’s Matplotlib (optional)\n",
        "\n",
        "_Note: The most important hyper parameters of skip-gram/CBOW are vector size and windows size_\n"
      ]
    },
    {
      "cell_type": "code",
      "metadata": {
        "deletable": false,
        "editable": false,
        "nbgrader": {
          "checksum": "a09a0bf3042da711c4bf843e9b4a4189",
          "grade": false,
          "grade_id": "cell-bf780e597c0216c8",
          "locked": true,
          "schema_version": 1,
          "solution": false
        },
        "id": "Vsocwry-KDVe",
        "colab_type": "code",
        "colab": {
          "base_uri": "https://localhost:8080/",
          "height": 541
        },
        "outputId": "3cd50d0e-bb51-4a02-bf15-6ef670ac6ead"
      },
      "source": [
        "!pip install gensim\n",
        "!wget -nc https://s3.amazonaws.com/dl4j-distribution/GoogleNews-vectors-negative300.bin.gz \n",
        "\n",
        "\n",
        "import pandas as pd\n",
        "import numpy as np \n",
        "import gensim\n",
        "\n"
      ],
      "execution_count": null,
      "outputs": [
        {
          "output_type": "stream",
          "text": [
            "Requirement already satisfied: gensim in /usr/local/lib/python3.6/dist-packages (3.6.0)\n",
            "Requirement already satisfied: smart-open>=1.2.1 in /usr/local/lib/python3.6/dist-packages (from gensim) (2.1.0)\n",
            "Requirement already satisfied: six>=1.5.0 in /usr/local/lib/python3.6/dist-packages (from gensim) (1.15.0)\n",
            "Requirement already satisfied: numpy>=1.11.3 in /usr/local/lib/python3.6/dist-packages (from gensim) (1.18.5)\n",
            "Requirement already satisfied: scipy>=0.18.1 in /usr/local/lib/python3.6/dist-packages (from gensim) (1.4.1)\n",
            "Requirement already satisfied: requests in /usr/local/lib/python3.6/dist-packages (from smart-open>=1.2.1->gensim) (2.23.0)\n",
            "Requirement already satisfied: boto in /usr/local/lib/python3.6/dist-packages (from smart-open>=1.2.1->gensim) (2.49.0)\n",
            "Requirement already satisfied: boto3 in /usr/local/lib/python3.6/dist-packages (from smart-open>=1.2.1->gensim) (1.14.37)\n",
            "Requirement already satisfied: urllib3!=1.25.0,!=1.25.1,<1.26,>=1.21.1 in /usr/local/lib/python3.6/dist-packages (from requests->smart-open>=1.2.1->gensim) (1.24.3)\n",
            "Requirement already satisfied: chardet<4,>=3.0.2 in /usr/local/lib/python3.6/dist-packages (from requests->smart-open>=1.2.1->gensim) (3.0.4)\n",
            "Requirement already satisfied: certifi>=2017.4.17 in /usr/local/lib/python3.6/dist-packages (from requests->smart-open>=1.2.1->gensim) (2020.6.20)\n",
            "Requirement already satisfied: idna<3,>=2.5 in /usr/local/lib/python3.6/dist-packages (from requests->smart-open>=1.2.1->gensim) (2.10)\n",
            "Requirement already satisfied: jmespath<1.0.0,>=0.7.1 in /usr/local/lib/python3.6/dist-packages (from boto3->smart-open>=1.2.1->gensim) (0.10.0)\n",
            "Requirement already satisfied: botocore<1.18.0,>=1.17.37 in /usr/local/lib/python3.6/dist-packages (from boto3->smart-open>=1.2.1->gensim) (1.17.37)\n",
            "Requirement already satisfied: s3transfer<0.4.0,>=0.3.0 in /usr/local/lib/python3.6/dist-packages (from boto3->smart-open>=1.2.1->gensim) (0.3.3)\n",
            "Requirement already satisfied: docutils<0.16,>=0.10 in /usr/local/lib/python3.6/dist-packages (from botocore<1.18.0,>=1.17.37->boto3->smart-open>=1.2.1->gensim) (0.15.2)\n",
            "Requirement already satisfied: python-dateutil<3.0.0,>=2.1 in /usr/local/lib/python3.6/dist-packages (from botocore<1.18.0,>=1.17.37->boto3->smart-open>=1.2.1->gensim) (2.8.1)\n",
            "--2020-08-20 23:16:02--  https://s3.amazonaws.com/dl4j-distribution/GoogleNews-vectors-negative300.bin.gz\n",
            "Resolving s3.amazonaws.com (s3.amazonaws.com)... 52.217.47.102\n",
            "Connecting to s3.amazonaws.com (s3.amazonaws.com)|52.217.47.102|:443... connected.\n",
            "HTTP request sent, awaiting response... 200 OK\n",
            "Length: 1647046227 (1.5G) [application/x-gzip]\n",
            "Saving to: ‘GoogleNews-vectors-negative300.bin.gz’\n",
            "\n",
            "GoogleNews-vectors- 100%[===================>]   1.53G  49.2MB/s    in 29s     \n",
            "\n",
            "2020-08-20 23:16:32 (53.4 MB/s) - ‘GoogleNews-vectors-negative300.bin.gz’ saved [1647046227/1647046227]\n",
            "\n"
          ],
          "name": "stdout"
        }
      ]
    },
    {
      "cell_type": "markdown",
      "metadata": {
        "deletable": false,
        "editable": false,
        "nbgrader": {
          "checksum": "47031c66b74746d23ccc5e8369446a4b",
          "grade": false,
          "grade_id": "cell-3f89500615a0096f",
          "locked": true,
          "schema_version": 1,
          "solution": false
        },
        "id": "ZF74G9bDKDVh",
        "colab_type": "text"
      },
      "source": [
        "### **Q1 (1 point)** \n",
        "Find the cosine similarity between the following word pairs\n",
        "\n",
        "- (France, England)\n",
        "- (smaller, bigger)\n",
        "- (England, London)\n",
        "- (France, Rocket)\n",
        "- (big, bigger)"
      ]
    },
    {
      "cell_type": "code",
      "metadata": {
        "deletable": false,
        "nbgrader": {
          "checksum": "4d52dda406c3d8cd5e37d29755f0fb12",
          "grade": false,
          "grade_id": "cell-fbbe575f8f5a6368",
          "locked": false,
          "schema_version": 1,
          "solution": true
        },
        "id": "SZD5ZaMvKDVk",
        "colab_type": "code",
        "colab": {
          "base_uri": "https://localhost:8080/",
          "height": 109
        },
        "outputId": "732d77b0-7b1d-4c63-98b7-e7258c65b74e"
      },
      "source": [
        "#Replace 0 with the code / value; Do not delete this cell\n",
        "from gensim.models import Word2Vec\n",
        "from gensim.models import KeyedVectors\n",
        "model = KeyedVectors.load_word2vec_format('GoogleNews-vectors-negative300.bin.gz', binary=True)\n",
        "word_vectors = model.wv\n",
        "word_vectors.vocab\n",
        "word_pairs = [      \n",
        "              ('France','England'),\n",
        "              ('smaller','bigger'),\n",
        "              ('England','London'), \n",
        "              ('France','Rocket'),\n",
        "              ('big','bigger')\n",
        "            ]\n"
      ],
      "execution_count": null,
      "outputs": [
        {
          "output_type": "stream",
          "text": [
            "/usr/local/lib/python3.6/dist-packages/smart_open/smart_open_lib.py:254: UserWarning: This function is deprecated, use smart_open.open instead. See the migration notes for details: https://github.com/RaRe-Technologies/smart_open/blob/master/README.rst#migrating-to-the-new-open-function\n",
            "  'See the migration notes for details: %s' % _MIGRATION_NOTES_URL\n",
            "/usr/local/lib/python3.6/dist-packages/ipykernel_launcher.py:7: DeprecationWarning: Call to deprecated `wv` (Attribute will be removed in 4.0.0, use self instead).\n",
            "  import sys\n"
          ],
          "name": "stderr"
        }
      ]
    },
    {
      "cell_type": "code",
      "metadata": {
        "deletable": false,
        "editable": false,
        "nbgrader": {
          "checksum": "569aa8b664a41d901bf7b0a5e23e9930",
          "grade": true,
          "grade_id": "cell-929d59ed5d67f618",
          "locked": true,
          "points": 1,
          "schema_version": 1,
          "solution": false
        },
        "id": "tFUPLSK7KDVp",
        "colab_type": "code",
        "colab": {
          "base_uri": "https://localhost:8080/",
          "height": 163
        },
        "outputId": "9209bf31-71ab-4ed4-e348-440d87939275"
      },
      "source": [
        "#This is an autograded cell, do not edit/delete\n",
        "for pair in word_pairs:\n",
        "    print(model.similarity(pair[0], pair[1]))\n"
      ],
      "execution_count": null,
      "outputs": [
        {
          "output_type": "stream",
          "text": [
            "0.39804944\n",
            "0.7302272\n",
            "0.43992856\n",
            "0.07114174\n",
            "0.68423855\n"
          ],
          "name": "stdout"
        },
        {
          "output_type": "stream",
          "text": [
            "/usr/local/lib/python3.6/dist-packages/gensim/matutils.py:737: FutureWarning: Conversion of the second argument of issubdtype from `int` to `np.signedinteger` is deprecated. In future, it will be treated as `np.int64 == np.dtype(int).type`.\n",
            "  if np.issubdtype(vec.dtype, np.int):\n"
          ],
          "name": "stderr"
        }
      ]
    },
    {
      "cell_type": "markdown",
      "metadata": {
        "deletable": false,
        "editable": false,
        "nbgrader": {
          "checksum": "a7f270405ddf9ecbffde36e6c096b818",
          "grade": false,
          "grade_id": "cell-ccd6618b4fac3715",
          "locked": true,
          "schema_version": 1,
          "solution": false
        },
        "id": "ZcqpWCjJKDVs",
        "colab_type": "text"
      },
      "source": [
        "### **Q2 (1 point)** \n",
        "Write an expression to extract the vector representations of the words: \n",
        "\n",
        "- France\n",
        "- England\n",
        "- smaller\n",
        "- bigger\n",
        "- rocket\n",
        "- big\n",
        "\n",
        "Get only the first 5 elements for each vector representation."
      ]
    },
    {
      "cell_type": "code",
      "metadata": {
        "deletable": false,
        "nbgrader": {
          "checksum": "6b3cecb268eb9440c446cd3de984b7f6",
          "grade": false,
          "grade_id": "cell-00f3d05abb28aa23",
          "locked": false,
          "schema_version": 1,
          "solution": true
        },
        "id": "6pzKlLyjKDVt",
        "colab_type": "code",
        "colab": {}
      },
      "source": [
        "#Replace 0 with the code / value to get the first 5 elements of each vector; Do not delete this cell\n",
        "\n",
        "words = ['France','England','smaller','bigger','rocket','big']\n",
        "\n"
      ],
      "execution_count": null,
      "outputs": []
    },
    {
      "cell_type": "code",
      "metadata": {
        "deletable": false,
        "editable": false,
        "nbgrader": {
          "checksum": "401940f859774b3c1ec48338fa15682e",
          "grade": true,
          "grade_id": "cell-6f34229370fa873f",
          "locked": true,
          "points": 1,
          "schema_version": 1,
          "solution": false
        },
        "id": "Hkj2ROGTKDVv",
        "colab_type": "code",
        "colab": {
          "base_uri": "https://localhost:8080/",
          "height": 125
        },
        "outputId": "610d2228-4129-4020-ef79-af9c89a338d7"
      },
      "source": [
        "#This is an autograded cell, do not edit/delete\n",
        "for word in words:\n",
        "  print(model[word][:5])\n",
        "\n"
      ],
      "execution_count": null,
      "outputs": [
        {
          "output_type": "stream",
          "text": [
            "[0.04858398 0.07861328 0.32421875 0.03491211 0.07714844]\n",
            "[-0.19824219  0.11523438  0.0625     -0.05834961  0.2265625 ]\n",
            "[-0.05004883  0.03417969 -0.0703125   0.17578125  0.00689697]\n",
            "[-0.06542969 -0.09521484 -0.06225586  0.16210938  0.01989746]\n",
            "[-0.03198242  0.27148438 -0.2890625  -0.15429688  0.16894531]\n",
            "[ 0.11132812  0.10595703 -0.07373047  0.18847656  0.07666016]\n"
          ],
          "name": "stdout"
        }
      ]
    },
    {
      "cell_type": "markdown",
      "metadata": {
        "deletable": false,
        "editable": false,
        "nbgrader": {
          "checksum": "ac8b42811c924e7988f17b9dbd3f71ef",
          "grade": false,
          "grade_id": "cell-4ad44071d3785409",
          "locked": true,
          "schema_version": 1,
          "solution": false
        },
        "id": "2UBnMwiXKDVy",
        "colab_type": "text"
      },
      "source": [
        "### **Q3 (1 point)** \n",
        "Find the euclidean distances between the word pairs : \n",
        "\n",
        "- (France, England)\n",
        "- (smaller, bigger)\n",
        "- (England, London)\n",
        "- (France, Rocket)\n",
        "- (big, bigger)\n"
      ]
    },
    {
      "cell_type": "code",
      "metadata": {
        "deletable": false,
        "nbgrader": {
          "checksum": "a771483fbb59086604eb84bcc7c7f0ad",
          "grade": false,
          "grade_id": "cell-3aba86afc0ebd8a8",
          "locked": false,
          "schema_version": 1,
          "solution": true
        },
        "id": "zQGd-YVoKDV3",
        "colab_type": "code",
        "colab": {
          "base_uri": "https://localhost:8080/",
          "height": 109
        },
        "outputId": "879e5786-8506-43aa-8ef1-f9f626f6de74"
      },
      "source": [
        "#Replace 0 with the code / value; Do not delete this cell\n",
        "from gensim.models import Word2Vec\n",
        "from gensim.models import KeyedVectors\n",
        "model = KeyedVectors.load_word2vec_format('GoogleNews-vectors-negative300.bin.gz', binary=True)\n",
        "word_vectors = model.wv\n",
        "word_vectors.vocab\n",
        "coords1 = model['France']\n",
        "coords2 = model['England']\n",
        "coords3 = model['smaller']\n",
        "coords4 = model['bigger']\n",
        "coords5 = model['London']\n",
        "coords6 = model['France']\n",
        "coords7 = model['Rocket']\n",
        "coords8 = model['big']\n",
        "def eucldist_vectorized(coords1, coords2):\n",
        "    return np.sqrt(np.sum((coords1 - coords2)**2))\n"
      ],
      "execution_count": null,
      "outputs": [
        {
          "output_type": "stream",
          "text": [
            "/usr/local/lib/python3.6/dist-packages/smart_open/smart_open_lib.py:254: UserWarning: This function is deprecated, use smart_open.open instead. See the migration notes for details: https://github.com/RaRe-Technologies/smart_open/blob/master/README.rst#migrating-to-the-new-open-function\n",
            "  'See the migration notes for details: %s' % _MIGRATION_NOTES_URL\n",
            "/usr/local/lib/python3.6/dist-packages/ipykernel_launcher.py:5: DeprecationWarning: Call to deprecated `wv` (Attribute will be removed in 4.0.0, use self instead).\n",
            "  \"\"\"\n"
          ],
          "name": "stderr"
        }
      ]
    },
    {
      "cell_type": "code",
      "metadata": {
        "deletable": false,
        "editable": false,
        "nbgrader": {
          "checksum": "17796eb5de342e8f8e841aa137a2c41c",
          "grade": true,
          "grade_id": "cell-15ffa50b82de21ad",
          "locked": true,
          "points": 1,
          "schema_version": 1,
          "solution": false
        },
        "id": "HsSg0l2UKDV6",
        "colab_type": "code",
        "colab": {
          "base_uri": "https://localhost:8080/",
          "height": 107
        },
        "outputId": "36d9ec74-886b-4e92-c024-e22ae5cc321f"
      },
      "source": [
        "#This is an autograded cell, do not edit / delete\n",
        "print(eucldist_vectorized(coords1,coords2))\n",
        "print(eucldist_vectorized(coords3,coords4))\n",
        "print(eucldist_vectorized(coords2,coords5))\n",
        "print(eucldist_vectorized(coords1,coords7))\n",
        "print(eucldist_vectorized(coords8,coords4))\n"
      ],
      "execution_count": null,
      "outputs": [
        {
          "output_type": "stream",
          "text": [
            "3.0151067\n",
            "1.8618743\n",
            "2.8752837\n",
            "3.892071\n",
            "1.9586496\n"
          ],
          "name": "stdout"
        }
      ]
    },
    {
      "cell_type": "markdown",
      "metadata": {
        "deletable": false,
        "editable": false,
        "nbgrader": {
          "checksum": "afc0e843c7545e2df83448feda9f28f5",
          "grade": false,
          "grade_id": "cell-7cd8b9b67386376d",
          "locked": true,
          "schema_version": 1,
          "solution": false
        },
        "id": "XvO2iU7QKDWA",
        "colab_type": "text"
      },
      "source": [
        "### **Q4 (1 point)**\n",
        "Time to dabble with the power of Word2Vec. Find the 2 closest words  for the following conditions:  \n",
        "- (King - Man + Queen)\n",
        "- (bigger - big + small)\n",
        "- (man + programmer - woman)\n",
        "- (waiting - wait + run)\n",
        "- (Texas + Milwaukee – Wisconsin)"
      ]
    },
    {
      "cell_type": "code",
      "metadata": {
        "deletable": false,
        "nbgrader": {
          "checksum": "50ef096feb166865434fe2fca3d41f99",
          "grade": false,
          "grade_id": "cell-b72201968c5fd1ec",
          "locked": false,
          "schema_version": 1,
          "solution": true
        },
        "id": "jCxWmA1eKDWB",
        "colab_type": "code",
        "colab": {
          "base_uri": "https://localhost:8080/",
          "height": 289
        },
        "outputId": "7714021f-38aa-485d-9feb-5983a45a0b5b"
      },
      "source": [
        "#Replace 0 with the code / value; Do not delete this cell\n",
        "closest1 = 0\n",
        "closest2 = 0\n",
        "closest3 = 0\n",
        "closest4 = 0\n",
        "closest5 = 0\n",
        "from gensim import models\n",
        "from gensim.models import Word2Vec\n",
        "from gensim.models import KeyedVectors\n",
        "model = KeyedVectors.load_word2vec_format('GoogleNews-vectors-negative300.bin.gz', binary=True)\n",
        "closest1=model.wv.most_similar(positive=['King','Queen'],negative=['Man'])[:2]\n",
        "closest2=model.wv.most_similar(positive=['bigger','small'],negative=['big'])[:2]\n",
        "closest3=model.wv.most_similar(positive=['man','programmer'],negative=['woman'])[:2]\n",
        "closest4=model.wv.most_similar(positive=['waiting','run'],negative=['wait'])[:2]\n",
        "closest5=model.wv.most_similar(positive=['Texas','Milwaukee'],negative=['Wisconsin'])[:2]\n",
        "\n",
        "\n",
        "\n",
        "\n",
        "\n"
      ],
      "execution_count": null,
      "outputs": [
        {
          "output_type": "stream",
          "text": [
            "/usr/local/lib/python3.6/dist-packages/smart_open/smart_open_lib.py:254: UserWarning: This function is deprecated, use smart_open.open instead. See the migration notes for details: https://github.com/RaRe-Technologies/smart_open/blob/master/README.rst#migrating-to-the-new-open-function\n",
            "  'See the migration notes for details: %s' % _MIGRATION_NOTES_URL\n",
            "/usr/local/lib/python3.6/dist-packages/ipykernel_launcher.py:11: DeprecationWarning: Call to deprecated `wv` (Attribute will be removed in 4.0.0, use self instead).\n",
            "  # This is added back by InteractiveShellApp.init_path()\n",
            "/usr/local/lib/python3.6/dist-packages/gensim/matutils.py:737: FutureWarning: Conversion of the second argument of issubdtype from `int` to `np.signedinteger` is deprecated. In future, it will be treated as `np.int64 == np.dtype(int).type`.\n",
            "  if np.issubdtype(vec.dtype, np.int):\n",
            "/usr/local/lib/python3.6/dist-packages/ipykernel_launcher.py:12: DeprecationWarning: Call to deprecated `wv` (Attribute will be removed in 4.0.0, use self instead).\n",
            "  if sys.path[0] == '':\n",
            "/usr/local/lib/python3.6/dist-packages/ipykernel_launcher.py:13: DeprecationWarning: Call to deprecated `wv` (Attribute will be removed in 4.0.0, use self instead).\n",
            "  del sys.path[0]\n",
            "/usr/local/lib/python3.6/dist-packages/ipykernel_launcher.py:14: DeprecationWarning: Call to deprecated `wv` (Attribute will be removed in 4.0.0, use self instead).\n",
            "  \n",
            "/usr/local/lib/python3.6/dist-packages/ipykernel_launcher.py:15: DeprecationWarning: Call to deprecated `wv` (Attribute will be removed in 4.0.0, use self instead).\n",
            "  from ipykernel import kernelapp as app\n"
          ],
          "name": "stderr"
        }
      ]
    },
    {
      "cell_type": "code",
      "metadata": {
        "deletable": false,
        "editable": false,
        "nbgrader": {
          "checksum": "f9c5ff502264f29d2632c6387f92686a",
          "grade": true,
          "grade_id": "cell-b69718ab0e1470bc",
          "locked": true,
          "points": 1,
          "schema_version": 1,
          "solution": false
        },
        "id": "io9elfD8KDWE",
        "colab_type": "code",
        "colab": {
          "base_uri": "https://localhost:8080/",
          "height": 107
        },
        "outputId": "258b7379-af32-494d-bce8-a5321bd27770"
      },
      "source": [
        "#This is an autograded cell, do not edit/delete\n",
        "print(closest1)\n",
        "print(closest2)\n",
        "print(closest3)\n",
        "print(closest4)\n",
        "print(closest5)\n"
      ],
      "execution_count": null,
      "outputs": [
        {
          "output_type": "stream",
          "text": [
            "[('Queen_Elizabeth', 0.5257916450500488), ('monarch', 0.5004087090492249)]\n",
            "[('larger', 0.7402471899986267), ('smaller', 0.732999324798584)]\n",
            "[('programer', 0.5371963977813721), ('programmers', 0.5310999155044556)]\n",
            "[('running', 0.5654535889625549), ('runs', 0.49640005826950073)]\n",
            "[('Houston', 0.7767744064331055), ('Fort_Worth', 0.7270511388778687)]\n"
          ],
          "name": "stdout"
        }
      ]
    },
    {
      "cell_type": "markdown",
      "metadata": {
        "deletable": false,
        "editable": false,
        "nbgrader": {
          "checksum": "6432058d78f4fa52224c48a3b3e71d0d",
          "grade": false,
          "grade_id": "cell-73dca0e2072fef91",
          "locked": true,
          "schema_version": 1,
          "solution": false
        },
        "id": "erUu4u71KDWJ",
        "colab_type": "text"
      },
      "source": [
        "### **Q5 (3 points)**\n",
        "Using the vectors for the words in the Google News dataset, explore the semantic representation of these words through K-means clustering and explain your findings.\n",
        "\n",
        "*Note : Since there are ~3Mil words in the vocabulary, you can downsample it to ~20-30k randomly selected words*\n",
        "\n",
        "**Do not delete the below cell**"
      ]
    },
    {
      "cell_type": "code",
      "metadata": {
        "deletable": false,
        "nbgrader": {
          "checksum": "7ecef46689f11d4d0a6fed72e049235f",
          "grade": true,
          "grade_id": "cell-80b177848b8b0212",
          "locked": false,
          "points": 3,
          "schema_version": 1,
          "solution": true
        },
        "id": "M3jN02fOKDWK",
        "colab_type": "code",
        "colab": {
          "base_uri": "https://localhost:8080/",
          "height": 343
        },
        "outputId": "c3bcaaf8-0059-489f-9ed0-2bac1728b609"
      },
      "source": [
        "# YOUR CODE HERE\n",
        "import random\n",
        "import pandas as pd\n",
        "import numpy as np \n",
        "import gensim\n",
        "from sklearn.cluster import KMeans\n",
        "from sklearn.metrics import silhouette_score\n",
        "from gensim.models import Word2Vec\n",
        "from gensim.models import KeyedVectors\n",
        "model = KeyedVectors.load_word2vec_format('GoogleNews-vectors-negative300.bin.gz', binary=True)\n",
        "words5 = random.sample(model.wv.vocab.keys(),20000)\n",
        "dict_words={}\n",
        "for word5 in words5:\n",
        "  dict_words[word5]=model[word5]\n",
        "df=pd.DataFrame.from_dict(dict_words).T\n",
        "scores=[]\n",
        "for i in range(5,100,10):\n",
        "  kmeans=KMeans(n_clusters=i,random_state=0)  \n",
        "  kmeans.fit(df)\n",
        "  score=silhouette_score(df,kmeans.labels_)\n",
        "  scores.append(score)\n",
        "k_best=np.argmax(scores)+2\n",
        "print(k_best)\n",
        "kmeans=KMeans(n_clusters=10,random_state=0)\n",
        "kmeans.fit(df)\n",
        "centers=kmeans.cluster_centers_\n",
        "for center in centers:\n",
        "  print(model.similar_by_vector(center))"
      ],
      "execution_count": null,
      "outputs": [
        {
          "output_type": "stream",
          "text": [
            "/usr/local/lib/python3.6/dist-packages/smart_open/smart_open_lib.py:254: UserWarning: This function is deprecated, use smart_open.open instead. See the migration notes for details: https://github.com/RaRe-Technologies/smart_open/blob/master/README.rst#migrating-to-the-new-open-function\n",
            "  'See the migration notes for details: %s' % _MIGRATION_NOTES_URL\n",
            "/usr/local/lib/python3.6/dist-packages/ipykernel_launcher.py:11: DeprecationWarning: Call to deprecated `wv` (Attribute will be removed in 4.0.0, use self instead).\n",
            "  # This is added back by InteractiveShellApp.init_path()\n"
          ],
          "name": "stderr"
        },
        {
          "output_type": "stream",
          "text": [
            "2\n"
          ],
          "name": "stdout"
        },
        {
          "output_type": "stream",
          "text": [
            "/usr/local/lib/python3.6/dist-packages/gensim/matutils.py:737: FutureWarning: Conversion of the second argument of issubdtype from `int` to `np.signedinteger` is deprecated. In future, it will be treated as `np.int64 == np.dtype(int).type`.\n",
            "  if np.issubdtype(vec.dtype, np.int):\n"
          ],
          "name": "stderr"
        },
        {
          "output_type": "stream",
          "text": [
            "[('By_QianMian_####-##-##', 0.8868101835250854), ('News_Weather_SportsWis', 0.8863681554794312), ('Emil_Protalinski_Published', 0.885381817817688), ('By_XiaoBing_####-##-##', 0.8835564851760864), ('STRIKE_PRICE_COMPARES_TO', 0.8762071132659912), ('BY_GEOFF_KOHL', 0.8760682344436646), ('BY_DANNY_GALLAGHER', 0.875302791595459), ('unshackled_handcuffs', 0.8748048543930054), ('SACRE_COEUR_MINERALS_LTD', 0.8739994764328003), ('By_HuDie_####-##-##', 0.8736629486083984)]\n",
            "[('unmarried_heterosexual_couples', 0.9999999403953552), ('unmarried_heterosexual', 0.7316180467605591), ('heterosexual_couples', 0.7254163026809692), ('unmarried_heterosexuals', 0.6971464157104492), ('unmarried_couples', 0.694516122341156), ('gay_couples', 0.6683939695358276), ('sex_couples', 0.6668319702148438), ('homosexual_couples', 0.6638563871383667), ('heterosexual_unmarried_couples', 0.6553046107292175), ('unmarried_cohabitating_couples', 0.6326161623001099)]\n",
            "[('Anelli', 1.0), ('Potter', 0.4868828058242798), ('MuggleNet', 0.4431666135787964), ('Lescroart', 0.423344224691391), ('Leaky_Cauldron', 0.42292624711990356), ('Zurzolo', 0.41926097869873047), ('Poerio', 0.4192052185535431), ('Saraceno', 0.4103834331035614), ('Lewis_Neville_Longbottom', 0.409175306558609), ('Polvere', 0.4064697325229645)]\n",
            "[('Saudi_Arabian_Airlines', 1.0), ('nasair', 0.6666030287742615), ('Nasair', 0.6378363966941833), ('Saudia', 0.637670636177063), ('Qatar_Airways', 0.634048581123352), ('Tunisair', 0.6259623765945435), ('Jazeera_Airways', 0.6214993000030518), ('JorAMCo', 0.6200512647628784), ('Saudi_Arabian_AirlinesSaudi_Arabian', 0.6181195378303528), ('Qatar_AirwaysQatar_Airways', 0.6112818717956543)]\n",
            "[('TTY_###-###-####', 1.0), ('TTY_#-###-###-####', 0.7628457546234131), ('#-###-###-####_TTY', 0.7070168852806091), ('TTY', 0.6843487024307251), ('###-###-####_TTY', 0.6761537790298462), ('www.FEMA.gov', 0.650164783000946), ('www.DisasterAssistance.gov', 0.6300765872001648), ('TTY_TDD', 0.6087561845779419), ('GO_BEAVS', 0.6034061908721924), ('www.fema.gov', 0.6010236740112305)]\n",
            "[('tmcft', 1.0), ('tmc_ft', 0.8568124771118164), ('tmc', 0.8217902183532715), ('TMC_ft', 0.7659662365913391), ('mcft', 0.7220790982246399), ('tmc_ft.', 0.7194027304649353), ('Mettur_reservoir', 0.714815616607666), ('Mettur_Dam', 0.6950109004974365), ('Kandaleru_reservoir', 0.6765934228897095), ('cusec', 0.6663362383842468)]\n",
            "[('Shenyin_Wanguo_Securities', 1.0), ('Shenyin_&', 0.7724196910858154), ('Huatai_Securities', 0.7708104848861694), ('Shenyin_Wanguo', 0.7631668448448181), ('Wanguo_Securities', 0.75992751121521), ('Shenyin', 0.7558457851409912), ('Changjiang_Securities', 0.7509523630142212), ('Xiangcai_Securities', 0.7509368658065796), ('Soochow_Securities', 0.7494143843650818), (\"Guotai_Jun'an_Securities\", 0.7481091022491455)]\n",
            "[('http_dol##.net_index###.html_http', 0.9056767225265503), ('index###.html_http_dol##.net_index###.html', 0.8955910205841064), ('dol##.net_index####.html_http_dol##.net', 0.8949424028396606), ('SIX_ROG_VX', 0.8937462568283081), ('Park_Debate_Colester', 0.8924310803413391), ('Deltagen_undertakes', 0.8922775983810425), ('By_TRICIA_SCRUGGS', 0.8897714614868164), ('George_Bekey_robotics', 0.8888002634048462), ('By_CINDY_BARKS', 0.8882729411125183), ('Iljitsch_van_Beijnum_Published', 0.8881947994232178)]\n",
            "[('Dryer_sheets', 0.6765464544296265), ('Fresh_shucked_oysters', 0.6706971526145935), ('nut_carvings', 0.6705101728439331), ('Koonin_oversaw', 0.6698400974273682), ('By_Blake_Drehle', 0.669121265411377), ('dol##.net_index###.html_http_dol##.net', 0.668389081954956), ('http_dol##.net_index####.html_http', 0.664822518825531), ('Epic_snowpack', 0.6626203060150146), ('seitan_wheat_gluten', 0.6601468324661255), ('Ninbo_Foshan_Fuqing', 0.6592923998832703)]\n",
            "[('ypc', 1.0), ('rushing_ypg', 0.7586635947227478), ('ypg', 0.7455533742904663), ('yards_rushing', 0.7044764757156372), ('###.#_ypg', 0.6875870227813721), ('rushing_TDs', 0.6437796354293823), ('YPC', 0.6361839175224304), ('kickoff_returns', 0.6293164491653442), ('averaging_###.#_ypg', 0.6279710531234741), ('yds', 0.6181874871253967)]\n"
          ],
          "name": "stdout"
        }
      ]
    },
    {
      "cell_type": "markdown",
      "metadata": {
        "deletable": false,
        "editable": false,
        "nbgrader": {
          "checksum": "0467b27a0f59504cbb62b851a002386f",
          "grade": false,
          "grade_id": "cell-5b2a5e8ff6c74323",
          "locked": true,
          "schema_version": 1,
          "solution": false
        },
        "id": "rmdtLoHkKDWR",
        "colab_type": "text"
      },
      "source": [
        "### **Q6 (1 point)**\n",
        "What loss function does the skipgram model use and briefly describe what this function is minimizing.\n",
        "\n",
        "**Do not delete the below cell**"
      ]
    },
    {
      "cell_type": "code",
      "metadata": {
        "deletable": false,
        "nbgrader": {
          "checksum": "774aef2c5bf8ef9d92e3489d1cd80390",
          "grade": true,
          "grade_id": "cell-90cc4b2c0ae8e2c2",
          "locked": false,
          "points": 1,
          "schema_version": 1,
          "solution": true
        },
        "id": "SyOASYXOKDWS",
        "colab_type": "code",
        "colab": {}
      },
      "source": [
        "# YOUR CODE HERE\n",
        "nce_loss\n",
        "In the skipgram model, given the center word, the conditional probability of generating background word can be obtained by doing softmax operation on vector inner product.\n",
        "The model is to minimize the probability."
      ],
      "execution_count": null,
      "outputs": []
    },
    {
      "cell_type": "markdown",
      "metadata": {
        "deletable": false,
        "editable": false,
        "nbgrader": {
          "checksum": "c14f6069f64cc86ab6e384d28df270d8",
          "grade": false,
          "grade_id": "cell-74a177caaabb5009",
          "locked": true,
          "schema_version": 1,
          "solution": false
        },
        "id": "dbpuJx9CKDWV",
        "colab_type": "text"
      },
      "source": [
        "### **Bonus Question (1 point)** \n",
        "Find at least 2 interesting word vec combinations like the ones given in Q5\n",
        "\n",
        "**Do not delete the below cell**"
      ]
    },
    {
      "cell_type": "code",
      "metadata": {
        "deletable": false,
        "nbgrader": {
          "checksum": "c2d42b5327f4b020c7e1706506dd5ce9",
          "grade": true,
          "grade_id": "cell-7351297993d72e83",
          "locked": false,
          "points": 1,
          "schema_version": 1,
          "solution": true
        },
        "id": "pQM8C_T7KDWW",
        "colab_type": "code",
        "colab": {}
      },
      "source": [
        "# YOUR CODE HERE\n",
        "[('unmarried_heterosexual_couples', 0.9999999403953552), ('unmarried_heterosexual', 0.7316180467605591), ('heterosexual_couples', 0.7254163026809692), ('unmarried_heterosexuals', 0.6971464157104492), ('unmarried_couples', 0.694516122341156), ('gay_couples', 0.6683939695358276), ('sex_couples', 0.6668319702148438), ('homosexual_couples', 0.6638563871383667), ('heterosexual_unmarried_couples', 0.6553046107292175), ('unmarried_cohabitating_couples', 0.6326161623001099)]\n",
        "[('Mixi', 1.0), ('mixi', 0.6301102042198181), ('DeNA', 0.608712911605835), ('Cyworld', 0.5846588611602783), ('Kenji_Kasahara', 0.5730277299880981), ('carrier_NTT_DoCoMo', 0.5709043145179749), ('DeNA_Co.', 0.5486183166503906), ('Mobage_Town', 0.5459986925125122), ('CyberAgent', 0.5381788015365601), ('keitai', 0.5378262400627136)]"
      ],
      "execution_count": null,
      "outputs": []
    },
    {
      "cell_type": "code",
      "metadata": {
        "id": "xQinQqtx8XiX",
        "colab_type": "code",
        "colab": {}
      },
      "source": [
        "Lab 6"
      ],
      "execution_count": null,
      "outputs": []
    },
    {
      "cell_type": "markdown",
      "metadata": {
        "id": "uGj7stqC8Zny",
        "colab_type": "text"
      },
      "source": [
        ""
      ]
    },
    {
      "cell_type": "code",
      "metadata": {
        "id": "UyrpdFaQ8cDF",
        "colab_type": "code",
        "colab": {
          "base_uri": "https://localhost:8080/",
          "height": 179
        },
        "outputId": "dad02389-e49f-4bf2-f375-847ec9aec336"
      },
      "source": [
        "import os\n",
        "import string\n",
        "import pandas as pd\n",
        "import numpy as np\n",
        "import re\n",
        "import pprint\n",
        "from urllib.request import urlopen\n",
        "\n",
        "import gensim\n",
        "from gensim import corpora, models, similarities\n",
        "import nltk\n",
        "from nltk import word_tokenize, tokenize\n",
        "nltk.download('punkt')\n",
        "!wget -c \"https://s3.amazonaws.com/dl4j-distribution/GoogleNews-vectors-negative300.bin.gz\""
      ],
      "execution_count": 16,
      "outputs": [
        {
          "output_type": "stream",
          "text": [
            "[nltk_data] Downloading package punkt to /root/nltk_data...\n",
            "[nltk_data]   Package punkt is already up-to-date!\n",
            "--2020-08-21 03:33:30--  https://s3.amazonaws.com/dl4j-distribution/GoogleNews-vectors-negative300.bin.gz\n",
            "Resolving s3.amazonaws.com (s3.amazonaws.com)... 52.216.86.117\n",
            "Connecting to s3.amazonaws.com (s3.amazonaws.com)|52.216.86.117|:443... connected.\n",
            "HTTP request sent, awaiting response... 416 Requested Range Not Satisfiable\n",
            "\n",
            "    The file is already fully retrieved; nothing to do.\n",
            "\n"
          ],
          "name": "stdout"
        }
      ]
    },
    {
      "cell_type": "code",
      "metadata": {
        "id": "01BVK41m9I18",
        "colab_type": "code",
        "colab": {
          "base_uri": "https://localhost:8080/",
          "height": 217
        },
        "outputId": "d8143f24-a569-4c4e-c4cc-60515006093a"
      },
      "source": [
        "url = \"http://www.gutenberg.org/cache/epub/844/pg844.txt\" ## Your raw text file location \n",
        "resp = urlopen(url)\n",
        "raw = resp.read().decode('utf8')\n",
        "firstlook = tokenize.sent_tokenize(raw)\n",
        "firstlook[0:10]"
      ],
      "execution_count": 19,
      "outputs": [
        {
          "output_type": "execute_result",
          "data": {
            "text/plain": [
              "['\\ufeffThe Project Gutenberg eBook, The Importance of Being Earnest, by Oscar\\r\\nWilde\\r\\n\\r\\n\\r\\nThis eBook is for the use of anyone anywhere at no cost and with\\r\\nalmost no restrictions whatsoever.',\n",
              " 'You may copy it, give it away or\\r\\nre-use it under the terms of the Project Gutenberg License included\\r\\nwith this eBook or online at www.gutenberg.org\\r\\n\\r\\n\\r\\n\\r\\n\\r\\n\\r\\nTitle: The Importance of Being Earnest\\r\\n       A Trivial Comedy for Serious People\\r\\n\\r\\n\\r\\nAuthor: Oscar Wilde\\r\\n\\r\\n\\r\\n\\r\\nRelease Date: August 29, 2006  [eBook #844]\\r\\n\\r\\nLanguage: English\\r\\n\\r\\nCharacter set encoding: ISO-646-US (US-ASCII)\\r\\n\\r\\n\\r\\n***START OF THE PROJECT GUTENBERG EBOOK THE IMPORTANCE OF BEING EARNEST***\\r\\n\\r\\n\\r\\n\\r\\n\\r\\n\\r\\n\\r\\nTranscribed from the 1915 Methuen & Co. Ltd. edition by David Price,\\r\\nemail ccx074@pglaf.org\\r\\n\\r\\n\\r\\n\\r\\n\\r\\n\\r\\nThe Importance of Being Earnest\\r\\nA Trivial Comedy for Serious People\\r\\n\\r\\n\\r\\nTHE PERSONS IN THE PLAY\\r\\n\\r\\n\\r\\nJohn Worthing, J.P.\\r\\nAlgernon Moncrieff\\r\\nRev.',\n",
              " 'Canon Chasuble, D.D.',\n",
              " 'Merriman, Butler\\r\\nLane, Manservant\\r\\nLady Bracknell\\r\\nHon.',\n",
              " \"Gwendolen Fairfax\\r\\nCecily Cardew\\r\\nMiss Prism, Governess\\r\\n\\r\\n\\r\\n\\r\\n\\r\\nTHE SCENES OF THE PLAY\\r\\n\\r\\n\\r\\nACT I.  Algernon Moncrieff's Flat in Half-Moon Street, W.\\r\\n\\r\\nACT II.\",\n",
              " 'The Garden at the Manor House, Woolton.',\n",
              " 'ACT III.',\n",
              " 'Drawing-Room at the Manor House, Woolton.',\n",
              " 'TIME: The Present.',\n",
              " \"LONDON: ST. JAMES'S THEATRE\\r\\n\\r\\n\\r\\nLessee and Manager: Mr. George Alexander\\r\\n\\r\\nFebruary 14th, 1895\\r\\n\\r\\n* * * * *\\r\\n\\r\\nJohn Worthing, J.P.: Mr. George Alexander.\"]"
            ]
          },
          "metadata": {
            "tags": []
          },
          "execution_count": 19
        }
      ]
    },
    {
      "cell_type": "code",
      "metadata": {
        "id": "l_XGUD-5A7rD",
        "colab_type": "code",
        "colab": {
          "base_uri": "https://localhost:8080/",
          "height": 217
        },
        "outputId": "e61e4211-0359-45b5-f2d7-909a71ad2718"
      },
      "source": [
        "pattern = r'''(?x)  # set flag to allow verbose regexps\n",
        "(?:[A-Z]\\.)+        # abbreviations, e.g. U.S.A.\n",
        "|\\w+(?:[-']\\w+)*    # words with optional internal hyphens\n",
        "|\\$?\\d+(?:\\.\\d+)?   # currency, e.g. $12.80 \n",
        "|\\.\\.\\.             # elipses\n",
        "|[.,;\"'?()-_`]      # these are separate tokens\n",
        "'''\n",
        "tokenized_raw = \" \".join(nltk.regexp_tokenize(raw, pattern))\n",
        "tokenized_raw = tokenize.sent_tokenize(tokenized_raw)\n",
        "tokenized_raw[:10]"
      ],
      "execution_count": 7,
      "outputs": [
        {
          "output_type": "execute_result",
          "data": {
            "text/plain": [
              "['The Project Gutenberg eBook , The Importance of Being Earnest , by Oscar Wilde This eBook is for the use of anyone anywhere at no cost and with almost no restrictions whatsoever .',\n",
              " 'You may copy it , give it away or re-use it under the terms of the Project Gutenberg License included with this eBook or online at www .',\n",
              " 'gutenberg .',\n",
              " 'org Title : The Importance of Being Earnest A Trivial Comedy for Serious People Author : Oscar Wilde Release Date : August 29 , 2006 [ eBook 844 ] Language : English Character set encoding : ISO-646-US ( US-ASCII ) * * * START OF THE PROJECT GUTENBERG EBOOK THE IMPORTANCE OF BEING EARNEST * * * Transcribed from the 1915 Methuen Co .',\n",
              " 'Ltd .',\n",
              " 'edition by David Price , email ccx074 @ pglaf .',\n",
              " 'org The Importance of Being Earnest A Trivial Comedy for Serious People THE PERSONS IN THE PLAY John Worthing , J.P. Algernon Moncrieff Rev .',\n",
              " 'Canon Chasuble , D.D.',\n",
              " 'Merriman , Butler Lane , Manservant Lady Bracknell Hon .',\n",
              " \"Gwendolen Fairfax Cecily Cardew Miss Prism , Governess THE SCENES OF THE PLAY ACT I. Algernon Moncrieff's Flat in Half-Moon Street , W. ACT II .\"]"
            ]
          },
          "metadata": {
            "tags": []
          },
          "execution_count": 7
        }
      ]
    },
    {
      "cell_type": "code",
      "metadata": {
        "id": "OmkyoMu3Bz-J",
        "colab_type": "code",
        "colab": {
          "base_uri": "https://localhost:8080/",
          "height": 1000
        },
        "outputId": "15ca18b0-9dfb-4d56-ec64-7a8114a63d75"
      },
      "source": [
        "nopunct = []\n",
        "for sent in tokenized_raw:\n",
        "    a = [w for w in sent.split() if w not in string.punctuation]\n",
        "    nopunct.append(\" \".join(a))\n",
        "tok_corp = [nltk.word_tokenize(sent) for sent in nopunct]\n",
        "tok_corp[:3]"
      ],
      "execution_count": 8,
      "outputs": [
        {
          "output_type": "execute_result",
          "data": {
            "text/plain": [
              "[['The',\n",
              "  'Project',\n",
              "  'Gutenberg',\n",
              "  'eBook',\n",
              "  'The',\n",
              "  'Importance',\n",
              "  'of',\n",
              "  'Being',\n",
              "  'Earnest',\n",
              "  'by',\n",
              "  'Oscar',\n",
              "  'Wilde',\n",
              "  'This',\n",
              "  'eBook',\n",
              "  'is',\n",
              "  'for',\n",
              "  'the',\n",
              "  'use',\n",
              "  'of',\n",
              "  'anyone',\n",
              "  'anywhere',\n",
              "  'at',\n",
              "  'no',\n",
              "  'cost',\n",
              "  'and',\n",
              "  'with',\n",
              "  'almost',\n",
              "  'no',\n",
              "  'restrictions',\n",
              "  'whatsoever'],\n",
              " ['You',\n",
              "  'may',\n",
              "  'copy',\n",
              "  'it',\n",
              "  'give',\n",
              "  'it',\n",
              "  'away',\n",
              "  'or',\n",
              "  're-use',\n",
              "  'it',\n",
              "  'under',\n",
              "  'the',\n",
              "  'terms',\n",
              "  'of',\n",
              "  'the',\n",
              "  'Project',\n",
              "  'Gutenberg',\n",
              "  'License',\n",
              "  'included',\n",
              "  'with',\n",
              "  'this',\n",
              "  'eBook',\n",
              "  'or',\n",
              "  'online',\n",
              "  'at',\n",
              "  'www'],\n",
              " ['gutenberg']]"
            ]
          },
          "metadata": {
            "tags": []
          },
          "execution_count": 8
        }
      ]
    },
    {
      "cell_type": "code",
      "metadata": {
        "id": "x--LxuUgB_OB",
        "colab_type": "code",
        "colab": {
          "base_uri": "https://localhost:8080/",
          "height": 35
        },
        "outputId": "8e8f661c-a362-4946-b40c-22f23b515b63"
      },
      "source": [
        "unique_words = list(set([item for sublist in tok_corp for item in sublist]))\n",
        "len(unique_words)"
      ],
      "execution_count": 9,
      "outputs": [
        {
          "output_type": "execute_result",
          "data": {
            "text/plain": [
              "3464"
            ]
          },
          "metadata": {
            "tags": []
          },
          "execution_count": 9
        }
      ]
    },
    {
      "cell_type": "code",
      "metadata": {
        "id": "xrY7SUdVCIhY",
        "colab_type": "code",
        "colab": {
          "base_uri": "https://localhost:8080/",
          "height": 343
        },
        "outputId": "86f5ef0f-2743-452d-8b0d-5811d05370eb"
      },
      "source": [
        "model = gensim.models.Word2Vec(tok_corp, min_count=1, size=16, window=5)\n",
        "vector_list = model[unique_words]\n",
        "len(vector_list)\n",
        "for i in range(5):\n",
        "    print(unique_words[i], vector_list[i])"
      ],
      "execution_count": 10,
      "outputs": [
        {
          "output_type": "stream",
          "text": [
            "adopted [ 0.00647054 -0.02338243  0.00534869  0.01297064 -0.00361234 -0.02207747\n",
            " -0.01289744  0.00496807  0.01004908 -0.00688447  0.01989302  0.02490742\n",
            "  0.00687872  0.00445962 -0.0217708   0.00776553]\n",
            "manner [ 0.10870595 -0.00942989  0.1534418  -0.08546929  0.09396841 -0.11738457\n",
            " -0.02474439 -0.08031733 -0.04767849  0.14891213  0.01339523  0.099103\n",
            "  0.2700922  -0.01238662 -0.17917769 -0.13381112]\n",
            "grammar [-0.01672928  0.01796025  0.0297228  -0.03021533  0.02921765  0.01774366\n",
            "  0.0120944   0.00301032 -0.01414067  0.02020262 -0.0133133  -0.01237488\n",
            "  0.04378416  0.00430023 -0.04443658  0.01637326]\n",
            "gold [-0.00289786 -0.02420416  0.02972378 -0.00306771  0.01461408 -0.00585316\n",
            " -0.03403353 -0.03753833  0.01689988  0.00635831 -0.02301302 -0.01604839\n",
            "  0.00427705 -0.01722183 -0.02921672 -0.0004642 ]\n",
            "appears [ 0.01471133  0.00411968  0.02750103  0.01148104 -0.01474748 -0.0103477\n",
            " -0.01887175 -0.00485141 -0.00633431 -0.00490278 -0.00428176  0.00047838\n",
            "  0.0038274   0.00255707 -0.02806475  0.00473943]\n"
          ],
          "name": "stdout"
        },
        {
          "output_type": "stream",
          "text": [
            "/usr/local/lib/python3.6/dist-packages/ipykernel_launcher.py:2: DeprecationWarning: Call to deprecated `__getitem__` (Method will be removed in 4.0.0, use self.wv.__getitem__() instead).\n",
            "  \n"
          ],
          "name": "stderr"
        }
      ]
    },
    {
      "cell_type": "code",
      "metadata": {
        "id": "g9jYoT77Cqpx",
        "colab_type": "code",
        "colab": {
          "base_uri": "https://localhost:8080/",
          "height": 575
        },
        "outputId": "3cacbba5-5160-401f-9f2f-dd3609ab7bb6"
      },
      "source": [
        "from sklearn.manifold import TSNE\n",
        "data_embed=TSNE(n_components=2, perplexity=70, verbose=2, method='barnes_hut').fit_transform(vector_list)\n"
      ],
      "execution_count": 20,
      "outputs": [
        {
          "output_type": "stream",
          "text": [
            "[t-SNE] Computing 211 nearest neighbors...\n",
            "[t-SNE] Indexed 3464 samples in 0.010s...\n",
            "[t-SNE] Computed neighbors for 3464 samples in 0.466s...\n",
            "[t-SNE] Computed conditional probabilities for sample 1000 / 3464\n",
            "[t-SNE] Computed conditional probabilities for sample 2000 / 3464\n",
            "[t-SNE] Computed conditional probabilities for sample 3000 / 3464\n",
            "[t-SNE] Computed conditional probabilities for sample 3464 / 3464\n",
            "[t-SNE] Mean sigma: 0.031809\n",
            "[t-SNE] Computed conditional probabilities in 0.575s\n",
            "[t-SNE] Iteration 50: error = 72.6958084, gradient norm = 0.0872422 (50 iterations in 2.241s)\n",
            "[t-SNE] Iteration 100: error = 69.7761078, gradient norm = 0.0057432 (50 iterations in 1.562s)\n",
            "[t-SNE] Iteration 150: error = 69.5938873, gradient norm = 0.0048264 (50 iterations in 1.580s)\n",
            "[t-SNE] Iteration 200: error = 69.5181122, gradient norm = 0.0021831 (50 iterations in 1.537s)\n",
            "[t-SNE] Iteration 250: error = 69.4895172, gradient norm = 0.0006994 (50 iterations in 1.490s)\n",
            "[t-SNE] KL divergence after 250 iterations with early exaggeration: 69.489517\n",
            "[t-SNE] Iteration 300: error = 2.1641555, gradient norm = 0.0009597 (50 iterations in 1.613s)\n",
            "[t-SNE] Iteration 350: error = 2.0432663, gradient norm = 0.0003514 (50 iterations in 1.743s)\n",
            "[t-SNE] Iteration 400: error = 1.9963620, gradient norm = 0.0001818 (50 iterations in 1.817s)\n",
            "[t-SNE] Iteration 450: error = 1.9725804, gradient norm = 0.0001222 (50 iterations in 1.795s)\n",
            "[t-SNE] Iteration 500: error = 1.9607811, gradient norm = 0.0000872 (50 iterations in 1.785s)\n",
            "[t-SNE] Iteration 550: error = 1.9536935, gradient norm = 0.0000720 (50 iterations in 1.806s)\n",
            "[t-SNE] Iteration 600: error = 1.9490663, gradient norm = 0.0000613 (50 iterations in 1.766s)\n",
            "[t-SNE] Iteration 650: error = 1.9461420, gradient norm = 0.0000540 (50 iterations in 1.810s)\n",
            "[t-SNE] Iteration 700: error = 1.9443955, gradient norm = 0.0000529 (50 iterations in 1.835s)\n",
            "[t-SNE] Iteration 750: error = 1.9433465, gradient norm = 0.0000451 (50 iterations in 1.861s)\n",
            "[t-SNE] Iteration 800: error = 1.9421515, gradient norm = 0.0000415 (50 iterations in 1.870s)\n",
            "[t-SNE] Iteration 850: error = 1.9408624, gradient norm = 0.0000365 (50 iterations in 1.899s)\n",
            "[t-SNE] Iteration 900: error = 1.9395921, gradient norm = 0.0000393 (50 iterations in 1.873s)\n",
            "[t-SNE] Iteration 950: error = 1.9386932, gradient norm = 0.0000382 (50 iterations in 1.862s)\n",
            "[t-SNE] Iteration 1000: error = 1.9382087, gradient norm = 0.0000350 (50 iterations in 1.870s)\n",
            "[t-SNE] KL divergence after 1000 iterations: 1.938209\n"
          ],
          "name": "stdout"
        }
      ]
    },
    {
      "cell_type": "code",
      "metadata": {
        "id": "xOOZE75kCyd5",
        "colab_type": "code",
        "colab": {
          "base_uri": "https://localhost:8080/",
          "height": 265
        },
        "outputId": "0fbbb0d0-86b8-4d7d-964c-3a815c0eda64"
      },
      "source": [
        "%matplotlib inline\n",
        "from matplotlib import pyplot as plt\n",
        "x_axis= data_embed[:,0]\n",
        "y_axis=data_embed[:,1]\n",
        "\n",
        "plt.scatter(x_axis, y_axis, s=5)\n",
        "plt.show() ## The plots vary each time you run them "
      ],
      "execution_count": 21,
      "outputs": [
        {
          "output_type": "display_data",
          "data": {
            "image/png": "[encoded data removed]",
            "text/plain": [
              "<Figure size 432x288 with 1 Axes>"
            ]
          },
          "metadata": {
            "tags": [],
            "needs_background": "light"
          }
        }
      ]
    },
    {
      "cell_type": "code",
      "metadata": {
        "id": "URszsGtMELWB",
        "colab_type": "code",
        "colab": {}
      },
      "source": [
        ""
      ],
      "execution_count": 13,
      "outputs": []
    }
  ]
}