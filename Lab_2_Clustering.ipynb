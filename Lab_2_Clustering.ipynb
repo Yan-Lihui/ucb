{
  "nbformat": 4,
  "nbformat_minor": 0,
  "metadata": {
    "kernelspec": {
      "display_name": "Python 3",
      "language": "python",
      "name": "python3"
    },
    "language_info": {
      "codemirror_mode": {
        "name": "ipython",
        "version": 3
      },
      "file_extension": ".py",
      "mimetype": "text/x-python",
      "name": "python",
      "nbconvert_exporter": "python",
      "pygments_lexer": "ipython3",
      "version": "3.6.9"
    },
    "colab": {
      "name": "Lab 2: Clustering",
      "provenance": [],
      "collapsed_sections": [],
      "toc_visible": true,
      "include_colab_link": true
    }
  },
  "cells": [
    {
      "cell_type": "markdown",
      "metadata": {
        "id": "view-in-github",
        "colab_type": "text"
      },
      "source": [
        "<a href=\"https://colab.research.google.com/github/Yan-Lihui/ucb/blob/master/Lab_2_Clustering.ipynb\" target=\"_parent\"><img src=\"https://colab.research.google.com/assets/colab-badge.svg\" alt=\"Open In Colab\"/></a>"
      ]
    },
    {
      "cell_type": "markdown",
      "metadata": {
        "id": "RTtjzb-C8WfV",
        "colab_type": "text"
      },
      "source": [
        "Make sure you fill in any place that says `YOUR CODE HERE` or `YOUR ANSWER HERE`, as well as your name below:"
      ]
    },
    {
      "cell_type": "code",
      "metadata": {
        "id": "84YmnDPm8WfX",
        "colab_type": "code",
        "colab": {}
      },
      "source": [
        "NAME = \"Lihui Yan\""
      ],
      "execution_count": 1,
      "outputs": []
    },
    {
      "cell_type": "markdown",
      "metadata": {
        "id": "mPzgt7538Wfe",
        "colab_type": "text"
      },
      "source": [
        "---"
      ]
    },
    {
      "cell_type": "markdown",
      "metadata": {
        "deletable": false,
        "editable": false,
        "nbgrader": {
          "checksum": "421e2e076e4bd859041d2c49e8c1b374",
          "grade": false,
          "grade_id": "cell-9ca594c076da14a9",
          "locked": true,
          "schema_version": 1,
          "solution": false
        },
        "id": "a84b7eS58Wff",
        "colab_type": "text"
      },
      "source": [
        "# Lab 2: Clustering ##\n",
        "\n",
        "**Please read the following instructions very carefully**\n",
        "\n",
        "## About the Dataset\n",
        "The dataset for this lab has been created from some custom features from Lab 1. The columns are named as q1, q2....etc. A description of the features can be found at this link: https://docs.google.com/spreadsheets/d/18wwyjGku2HYfgDX9Vez64lGHz31E_PfbpmAdfb7ly6M/edit?usp=sharing\n",
        "\n",
        "## Working on the assignment / FAQs\n",
        "- **Always use the seed/random_state as *42* wherever applicable** (This is to ensure repeatability in answers, across students and coding environments) \n",
        "- Questions can be either autograded and manually graded.\n",
        "- The type of question and the points they carry are indicated in each question cell\n",
        "- An autograded question has 3 cells\n",
        "     - **Question cell** : Read only cell containing the question\n",
        "     - **Code Cell** : This is where you write the code\n",
        "     - **Grading cell** : This is where the grading occurs, and **you are required not to edit this cell**\n",
        "- Manually graded questions only have the question and code cells.\n",
        "- To avoid any ambiguity, each question also specifies what *value* the function must return. Note that these are dummy values and not the answers\n",
        "- If an autograded question has multiple answers (due to differences in handling NaNs, zeros etc.), all answers will be considered.\n",
        "- Most assignments have bonus questions for extra credit, do try them out! \n",
        "- You can delete the `raise NotImplementedError()` for all manually graded questions.\n",
        "- **Submitting the assignment** : Download the '.ipynb' file from Colab and upload it to canvas. Do not delete any outputs from cells before submitting.\n",
        "- That's about it. Happy coding! "
      ]
    },
    {
      "cell_type": "code",
      "metadata": {
        "deletable": false,
        "editable": false,
        "nbgrader": {
          "checksum": "ccd093de0c01c601220c82809d785907",
          "grade": false,
          "grade_id": "cell-11a8a6cab098e8a1",
          "locked": true,
          "schema_version": 1,
          "solution": false
        },
        "id": "uS-ZiJUd8Wfg",
        "colab_type": "code",
        "colab": {
          "base_uri": "https://localhost:8080/",
          "height": 485
        },
        "outputId": "5d6f4226-42e9-47c9-de8b-0f3ba7041556"
      },
      "source": [
        "import pandas as pd\n",
        "import collections\n",
        "from sklearn.cluster import KMeans\n",
        "from sklearn.metrics import silhouette_score\n",
        "import numpy as np\n",
        "from sklearn.preprocessing import normalize\n",
        "\n",
        "import matplotlib\n",
        "import matplotlib.pyplot as plt\n",
        "\n",
        "%matplotlib inline\n",
        "matplotlib.style.use('ggplot')\n",
        "\n",
        "\n",
        "\n",
        "#DOWNLOADING DATASET\n",
        "!wget -nc http://people.ischool.berkeley.edu/~zp/course_datasets/yelp_reviewers.zip\n",
        "!unzip -u yelp_reviewers.zip\n",
        "print('Dataset Downloaded: yelp_reviewers.csv')\n",
        "df = pd.read_csv('yelp_reviewers.csv')\n",
        "df = df.sample(frac=0.3, random_state=42)\n",
        "print(df.dropna().describe())\n",
        "\n",
        "print('....SETUP COMPLETE....')"
      ],
      "execution_count": 2,
      "outputs": [
        {
          "output_type": "stream",
          "text": [
            "--2020-08-03 09:52:38--  http://people.ischool.berkeley.edu/~zp/course_datasets/yelp_reviewers.zip\n",
            "Resolving people.ischool.berkeley.edu (people.ischool.berkeley.edu)... 128.32.78.16\n",
            "Connecting to people.ischool.berkeley.edu (people.ischool.berkeley.edu)|128.32.78.16|:80... connected.\n",
            "HTTP request sent, awaiting response... 200 OK\n",
            "Length: 12350863 (12M) [application/zip]\n",
            "Saving to: ‘yelp_reviewers.zip’\n",
            "\n",
            "yelp_reviewers.zip  100%[===================>]  11.78M  1.93MB/s    in 7.5s    \n",
            "\n",
            "2020-08-03 09:52:46 (1.58 MB/s) - ‘yelp_reviewers.zip’ saved [12350863/12350863]\n",
            "\n",
            "Archive:  yelp_reviewers.zip\n",
            "  inflating: yelp_reviewers.csv      \n",
            "Dataset Downloaded: yelp_reviewers.csv\n",
            "                q3           q4  ...        q16ab        q16ac\n",
            "count  7177.000000  7177.000000  ...  7177.000000  7177.000000\n",
            "mean      6.838651     5.281455  ...     1.127751     3.649254\n",
            "std       7.597977    16.208703  ...     4.652206     0.977100\n",
            "min       1.000000     1.000000  ...     0.000000     1.000000\n",
            "25%       3.000000     1.000000  ...     0.000000     3.200000\n",
            "50%       5.000000     2.000000  ...     0.500000     3.777778\n",
            "75%       9.000000     4.000000  ...     1.307692     4.333333\n",
            "max     252.000000   607.000000  ...   342.300000     5.000000\n",
            "\n",
            "[8 rows x 40 columns]\n",
            "....SETUP COMPLETE....\n"
          ],
          "name": "stdout"
        }
      ]
    },
    {
      "cell_type": "code",
      "metadata": {
        "id": "u3qROk99E_75",
        "colab_type": "code",
        "colab": {}
      },
      "source": [
        ""
      ],
      "execution_count": null,
      "outputs": []
    },
    {
      "cell_type": "code",
      "metadata": {
        "id": "ANCMpJ178foc",
        "colab_type": "code",
        "colab": {
          "base_uri": "https://localhost:8080/",
          "height": 1000
        },
        "outputId": "ce6a0e4c-35aa-4059-e781-41083b1ce7ce"
      },
      "source": [
        "df.head().T"
      ],
      "execution_count": null,
      "outputs": [
        {
          "output_type": "execute_result",
          "data": {
            "text/html": [
              "<div>\n",
              "<style scoped>\n",
              "    .dataframe tbody tr th:only-of-type {\n",
              "        vertical-align: middle;\n",
              "    }\n",
              "\n",
              "    .dataframe tbody tr th {\n",
              "        vertical-align: top;\n",
              "    }\n",
              "\n",
              "    .dataframe thead th {\n",
              "        text-align: right;\n",
              "    }\n",
              "</style>\n",
              "<table border=\"1\" class=\"dataframe\">\n",
              "  <thead>\n",
              "    <tr style=\"text-align: right;\">\n",
              "      <th></th>\n",
              "      <th>129451</th>\n",
              "      <th>116706</th>\n",
              "      <th>144394</th>\n",
              "      <th>24699</th>\n",
              "      <th>47453</th>\n",
              "    </tr>\n",
              "  </thead>\n",
              "  <tbody>\n",
              "    <tr>\n",
              "      <th>user_id</th>\n",
              "      <td>kIWQXgjmVdgEs9BOgr8G5A</td>\n",
              "      <td>fXU_-5DBmNlGhI8fbX-2vQ</td>\n",
              "      <td>prF_lbKywPnZhNqvJOOaDw</td>\n",
              "      <td>8GHUeOm807bI5Qh4X3CHBA</td>\n",
              "      <td>Gd_IGX3BmRYbPD84ovLEoA</td>\n",
              "    </tr>\n",
              "    <tr>\n",
              "      <th>q3</th>\n",
              "      <td>1</td>\n",
              "      <td>1</td>\n",
              "      <td>1</td>\n",
              "      <td>1</td>\n",
              "      <td>8</td>\n",
              "    </tr>\n",
              "    <tr>\n",
              "      <th>q4</th>\n",
              "      <td>0</td>\n",
              "      <td>0</td>\n",
              "      <td>0</td>\n",
              "      <td>0</td>\n",
              "      <td>2</td>\n",
              "    </tr>\n",
              "    <tr>\n",
              "      <th>q5</th>\n",
              "      <td>0</td>\n",
              "      <td>0</td>\n",
              "      <td>0</td>\n",
              "      <td>0</td>\n",
              "      <td>1</td>\n",
              "    </tr>\n",
              "    <tr>\n",
              "      <th>q6</th>\n",
              "      <td>0</td>\n",
              "      <td>0</td>\n",
              "      <td>0</td>\n",
              "      <td>0</td>\n",
              "      <td>8</td>\n",
              "    </tr>\n",
              "    <tr>\n",
              "      <th>q7</th>\n",
              "      <td>0</td>\n",
              "      <td>0</td>\n",
              "      <td>0</td>\n",
              "      <td>0</td>\n",
              "      <td>2.08</td>\n",
              "    </tr>\n",
              "    <tr>\n",
              "      <th>q8</th>\n",
              "      <td>NaN</td>\n",
              "      <td>NaN</td>\n",
              "      <td>NaN</td>\n",
              "      <td>NaN</td>\n",
              "      <td>0.69</td>\n",
              "    </tr>\n",
              "    <tr>\n",
              "      <th>q9</th>\n",
              "      <td>NaN</td>\n",
              "      <td>NaN</td>\n",
              "      <td>NaN</td>\n",
              "      <td>NaN</td>\n",
              "      <td>0</td>\n",
              "    </tr>\n",
              "    <tr>\n",
              "      <th>q10</th>\n",
              "      <td>NaN</td>\n",
              "      <td>NaN</td>\n",
              "      <td>NaN</td>\n",
              "      <td>NaN</td>\n",
              "      <td>2.08</td>\n",
              "    </tr>\n",
              "    <tr>\n",
              "      <th>q11</th>\n",
              "      <td>NaN</td>\n",
              "      <td>NaN</td>\n",
              "      <td>NaN</td>\n",
              "      <td>NaN</td>\n",
              "      <td>18.18</td>\n",
              "    </tr>\n",
              "    <tr>\n",
              "      <th>q12</th>\n",
              "      <td>NaN</td>\n",
              "      <td>NaN</td>\n",
              "      <td>NaN</td>\n",
              "      <td>NaN</td>\n",
              "      <td>9.09</td>\n",
              "    </tr>\n",
              "    <tr>\n",
              "      <th>q13</th>\n",
              "      <td>NaN</td>\n",
              "      <td>NaN</td>\n",
              "      <td>NaN</td>\n",
              "      <td>NaN</td>\n",
              "      <td>72.73</td>\n",
              "    </tr>\n",
              "    <tr>\n",
              "      <th>q14</th>\n",
              "      <td>7</td>\n",
              "      <td>10</td>\n",
              "      <td>9</td>\n",
              "      <td>8</td>\n",
              "      <td>10</td>\n",
              "    </tr>\n",
              "    <tr>\n",
              "      <th>q15</th>\n",
              "      <td>510</td>\n",
              "      <td>132</td>\n",
              "      <td>1792</td>\n",
              "      <td>283</td>\n",
              "      <td>663.38</td>\n",
              "    </tr>\n",
              "    <tr>\n",
              "      <th>q16a</th>\n",
              "      <td>0</td>\n",
              "      <td>0</td>\n",
              "      <td>0</td>\n",
              "      <td>0</td>\n",
              "      <td>4</td>\n",
              "    </tr>\n",
              "    <tr>\n",
              "      <th>q16b</th>\n",
              "      <td>0</td>\n",
              "      <td>0</td>\n",
              "      <td>0</td>\n",
              "      <td>0</td>\n",
              "      <td>0.353553</td>\n",
              "    </tr>\n",
              "    <tr>\n",
              "      <th>q16c</th>\n",
              "      <td>0</td>\n",
              "      <td>0</td>\n",
              "      <td>0</td>\n",
              "      <td>0</td>\n",
              "      <td>0.00207273</td>\n",
              "    </tr>\n",
              "    <tr>\n",
              "      <th>q16d</th>\n",
              "      <td>3</td>\n",
              "      <td>1</td>\n",
              "      <td>3</td>\n",
              "      <td>5</td>\n",
              "      <td>4.875</td>\n",
              "    </tr>\n",
              "    <tr>\n",
              "      <th>q16e</th>\n",
              "      <td>0.0137255</td>\n",
              "      <td>0.0454545</td>\n",
              "      <td>0.0273438</td>\n",
              "      <td>0.0176678</td>\n",
              "      <td>0.0229885</td>\n",
              "    </tr>\n",
              "    <tr>\n",
              "      <th>q16f</th>\n",
              "      <td>0</td>\n",
              "      <td>0</td>\n",
              "      <td>0</td>\n",
              "      <td>0</td>\n",
              "      <td>0.330719</td>\n",
              "    </tr>\n",
              "    <tr>\n",
              "      <th>q16g</th>\n",
              "      <td>0</td>\n",
              "      <td>1</td>\n",
              "      <td>1</td>\n",
              "      <td>0</td>\n",
              "      <td>2</td>\n",
              "    </tr>\n",
              "    <tr>\n",
              "      <th>q16h</th>\n",
              "      <td>0</td>\n",
              "      <td>1</td>\n",
              "      <td>1</td>\n",
              "      <td>0</td>\n",
              "      <td>6</td>\n",
              "    </tr>\n",
              "    <tr>\n",
              "      <th>q16i</th>\n",
              "      <td>0</td>\n",
              "      <td>0</td>\n",
              "      <td>0</td>\n",
              "      <td>0</td>\n",
              "      <td>0</td>\n",
              "    </tr>\n",
              "    <tr>\n",
              "      <th>q16j</th>\n",
              "      <td>0</td>\n",
              "      <td>0</td>\n",
              "      <td>0</td>\n",
              "      <td>0</td>\n",
              "      <td>1.375</td>\n",
              "    </tr>\n",
              "    <tr>\n",
              "      <th>q16k</th>\n",
              "      <td>0</td>\n",
              "      <td>0</td>\n",
              "      <td>0</td>\n",
              "      <td>0</td>\n",
              "      <td>1</td>\n",
              "    </tr>\n",
              "    <tr>\n",
              "      <th>q16l</th>\n",
              "      <td>0</td>\n",
              "      <td>0</td>\n",
              "      <td>0</td>\n",
              "      <td>0</td>\n",
              "      <td>0</td>\n",
              "    </tr>\n",
              "    <tr>\n",
              "      <th>q16m</th>\n",
              "      <td>3</td>\n",
              "      <td>0</td>\n",
              "      <td>12</td>\n",
              "      <td>1</td>\n",
              "      <td>4.5</td>\n",
              "    </tr>\n",
              "    <tr>\n",
              "      <th>q16n</th>\n",
              "      <td>0</td>\n",
              "      <td>0</td>\n",
              "      <td>1</td>\n",
              "      <td>0</td>\n",
              "      <td>0.125</td>\n",
              "    </tr>\n",
              "    <tr>\n",
              "      <th>q16o</th>\n",
              "      <td>0</td>\n",
              "      <td>1</td>\n",
              "      <td>1</td>\n",
              "      <td>0</td>\n",
              "      <td>0.75</td>\n",
              "    </tr>\n",
              "    <tr>\n",
              "      <th>q16p</th>\n",
              "      <td>0</td>\n",
              "      <td>0</td>\n",
              "      <td>1</td>\n",
              "      <td>0</td>\n",
              "      <td>1</td>\n",
              "    </tr>\n",
              "    <tr>\n",
              "      <th>q16q</th>\n",
              "      <td>0</td>\n",
              "      <td>0</td>\n",
              "      <td>0</td>\n",
              "      <td>0</td>\n",
              "      <td>0.192489</td>\n",
              "    </tr>\n",
              "    <tr>\n",
              "      <th>q16r</th>\n",
              "      <td>3</td>\n",
              "      <td>1</td>\n",
              "      <td>3</td>\n",
              "      <td>5</td>\n",
              "      <td>5</td>\n",
              "    </tr>\n",
              "    <tr>\n",
              "      <th>q16s</th>\n",
              "      <td>experienced</td>\n",
              "      <td>experienced</td>\n",
              "      <td>experienced</td>\n",
              "      <td>experienced</td>\n",
              "      <td>experienced</td>\n",
              "    </tr>\n",
              "    <tr>\n",
              "      <th>q16t</th>\n",
              "      <td>no</td>\n",
              "      <td>no</td>\n",
              "      <td>no</td>\n",
              "      <td>no</td>\n",
              "      <td>no</td>\n",
              "    </tr>\n",
              "    <tr>\n",
              "      <th>q16u</th>\n",
              "      <td>0</td>\n",
              "      <td>0</td>\n",
              "      <td>2</td>\n",
              "      <td>0</td>\n",
              "      <td>0.375</td>\n",
              "    </tr>\n",
              "    <tr>\n",
              "      <th>q16v</th>\n",
              "      <td>13</td>\n",
              "      <td>35</td>\n",
              "      <td>36</td>\n",
              "      <td>33</td>\n",
              "      <td>8</td>\n",
              "    </tr>\n",
              "    <tr>\n",
              "      <th>q16w</th>\n",
              "      <td>3</td>\n",
              "      <td>1</td>\n",
              "      <td>3</td>\n",
              "      <td>5</td>\n",
              "      <td>39</td>\n",
              "    </tr>\n",
              "    <tr>\n",
              "      <th>q16x</th>\n",
              "      <td>0</td>\n",
              "      <td>0.00757576</td>\n",
              "      <td>0.00168539</td>\n",
              "      <td>0</td>\n",
              "      <td>0.00175505</td>\n",
              "    </tr>\n",
              "    <tr>\n",
              "      <th>q16y</th>\n",
              "      <td>101</td>\n",
              "      <td>23</td>\n",
              "      <td>363</td>\n",
              "      <td>50</td>\n",
              "      <td>91.0729</td>\n",
              "    </tr>\n",
              "    <tr>\n",
              "      <th>q16z</th>\n",
              "      <td>0</td>\n",
              "      <td>0</td>\n",
              "      <td>0</td>\n",
              "      <td>0</td>\n",
              "      <td>4</td>\n",
              "    </tr>\n",
              "    <tr>\n",
              "      <th>q16aa</th>\n",
              "      <td>0</td>\n",
              "      <td>0</td>\n",
              "      <td>0</td>\n",
              "      <td>0</td>\n",
              "      <td>0</td>\n",
              "    </tr>\n",
              "    <tr>\n",
              "      <th>q16ab</th>\n",
              "      <td>NaN</td>\n",
              "      <td>0</td>\n",
              "      <td>NaN</td>\n",
              "      <td>2</td>\n",
              "      <td>1</td>\n",
              "    </tr>\n",
              "    <tr>\n",
              "      <th>q16ac</th>\n",
              "      <td>3</td>\n",
              "      <td>1</td>\n",
              "      <td>3</td>\n",
              "      <td>5</td>\n",
              "      <td>4.875</td>\n",
              "    </tr>\n",
              "  </tbody>\n",
              "</table>\n",
              "</div>"
            ],
            "text/plain": [
              "                         129451  ...                  47453 \n",
              "user_id  kIWQXgjmVdgEs9BOgr8G5A  ...  Gd_IGX3BmRYbPD84ovLEoA\n",
              "q3                            1  ...                       8\n",
              "q4                            0  ...                       2\n",
              "q5                            0  ...                       1\n",
              "q6                            0  ...                       8\n",
              "q7                            0  ...                    2.08\n",
              "q8                          NaN  ...                    0.69\n",
              "q9                          NaN  ...                       0\n",
              "q10                         NaN  ...                    2.08\n",
              "q11                         NaN  ...                   18.18\n",
              "q12                         NaN  ...                    9.09\n",
              "q13                         NaN  ...                   72.73\n",
              "q14                           7  ...                      10\n",
              "q15                         510  ...                  663.38\n",
              "q16a                          0  ...                       4\n",
              "q16b                          0  ...                0.353553\n",
              "q16c                          0  ...              0.00207273\n",
              "q16d                          3  ...                   4.875\n",
              "q16e                  0.0137255  ...               0.0229885\n",
              "q16f                          0  ...                0.330719\n",
              "q16g                          0  ...                       2\n",
              "q16h                          0  ...                       6\n",
              "q16i                          0  ...                       0\n",
              "q16j                          0  ...                   1.375\n",
              "q16k                          0  ...                       1\n",
              "q16l                          0  ...                       0\n",
              "q16m                          3  ...                     4.5\n",
              "q16n                          0  ...                   0.125\n",
              "q16o                          0  ...                    0.75\n",
              "q16p                          0  ...                       1\n",
              "q16q                          0  ...                0.192489\n",
              "q16r                          3  ...                       5\n",
              "q16s                experienced  ...             experienced\n",
              "q16t                         no  ...                      no\n",
              "q16u                          0  ...                   0.375\n",
              "q16v                         13  ...                       8\n",
              "q16w                          3  ...                      39\n",
              "q16x                          0  ...              0.00175505\n",
              "q16y                        101  ...                 91.0729\n",
              "q16z                          0  ...                       4\n",
              "q16aa                         0  ...                       0\n",
              "q16ab                       NaN  ...                       1\n",
              "q16ac                         3  ...                   4.875\n",
              "\n",
              "[43 rows x 5 columns]"
            ]
          },
          "metadata": {
            "tags": []
          },
          "execution_count": 2
        }
      ]
    },
    {
      "cell_type": "markdown",
      "metadata": {
        "deletable": false,
        "editable": false,
        "nbgrader": {
          "checksum": "abffba52a1391fd598ceb32fa84a5960",
          "grade": false,
          "grade_id": "cell-91b1f66036bc756a",
          "locked": true,
          "schema_version": 1,
          "solution": false
        },
        "id": "mV9fSZv88Wfk",
        "colab_type": "text"
      },
      "source": [
        "---"
      ]
    },
    {
      "cell_type": "markdown",
      "metadata": {
        "deletable": false,
        "editable": false,
        "nbgrader": {
          "checksum": "9a3601934d89674b0f1ddb8953f392b8",
          "grade": false,
          "grade_id": "cell-3cb43492c95c0336",
          "locked": true,
          "schema_version": 1,
          "solution": false
        },
        "id": "FyEW1omS8Wfk",
        "colab_type": "text"
      },
      "source": [
        "### Question 1 `(1 point)`\n",
        "What is the best choice of k according to the silhouette metric for clustering q4-q6? Only consider 2 <= k <= 8. \n",
        "\n",
        "\n",
        "**NOTE**: For features with high variance, empty clusters can occur. There are several ways of dealing with empty clusters. A common approach is to drop empty clusters, the prefered approach for this Lab is to treat the empty cluster as a “singleton” leaving it empty with a single point placeholder.\n"
      ]
    },
    {
      "cell_type": "code",
      "metadata": {
        "deletable": false,
        "nbgrader": {
          "checksum": "d870b56ad1274ceed7a8c1ad14120f4d",
          "grade": false,
          "grade_id": "cell-35daa961ef9ef163",
          "locked": false,
          "schema_version": 1,
          "solution": true
        },
        "id": "SHN499lB8Wfl",
        "colab_type": "code",
        "colab": {
          "base_uri": "https://localhost:8080/",
          "height": 608
        },
        "outputId": "117bb7cc-3f9b-4320-881f-a0ee34f682a6"
      },
      "source": [
        "#Make sure you return the answer value in this function\n",
        "#The return value must be an integer\n",
        "def q1(df):\n",
        "  Scores = []  # 存放轮廓系数\n",
        "  for k in range(2,8):\n",
        "    estimator = KMeans(n_clusters=k)  # 构造聚类器\n",
        "    estimator.fit(df[['q4','q5','q6']])\n",
        "    Scores.append(silhouette_score(df[['q4','q5','q6']],estimator.labels_,metric='euclidean'))\n",
        "  X = range(2,8)\n",
        "  plt.xlabel('k')\n",
        "  plt.ylabel('轮廓系数')\n",
        "  plt.plot(X,Scores,'o-')\n",
        "  plt.show()\n",
        "    # YOUR CODE HERE\n",
        "print(q1(df))"
      ],
      "execution_count": 33,
      "outputs": [
        {
          "output_type": "stream",
          "text": [
            "/usr/local/lib/python3.6/dist-packages/matplotlib/backends/backend_agg.py:214: RuntimeWarning: Glyph 36718 missing from current font.\n",
            "  font.set_text(s, 0.0, flags=flags)\n",
            "/usr/local/lib/python3.6/dist-packages/matplotlib/backends/backend_agg.py:214: RuntimeWarning: Glyph 24275 missing from current font.\n",
            "  font.set_text(s, 0.0, flags=flags)\n",
            "/usr/local/lib/python3.6/dist-packages/matplotlib/backends/backend_agg.py:214: RuntimeWarning: Glyph 31995 missing from current font.\n",
            "  font.set_text(s, 0.0, flags=flags)\n",
            "/usr/local/lib/python3.6/dist-packages/matplotlib/backends/backend_agg.py:214: RuntimeWarning: Glyph 25968 missing from current font.\n",
            "  font.set_text(s, 0.0, flags=flags)\n",
            "/usr/local/lib/python3.6/dist-packages/matplotlib/backends/backend_agg.py:183: RuntimeWarning: Glyph 36718 missing from current font.\n",
            "  font.set_text(s, 0, flags=flags)\n",
            "/usr/local/lib/python3.6/dist-packages/matplotlib/backends/backend_agg.py:183: RuntimeWarning: Glyph 24275 missing from current font.\n",
            "  font.set_text(s, 0, flags=flags)\n",
            "/usr/local/lib/python3.6/dist-packages/matplotlib/backends/backend_agg.py:183: RuntimeWarning: Glyph 31995 missing from current font.\n",
            "  font.set_text(s, 0, flags=flags)\n",
            "/usr/local/lib/python3.6/dist-packages/matplotlib/backends/backend_agg.py:183: RuntimeWarning: Glyph 25968 missing from current font.\n",
            "  font.set_text(s, 0, flags=flags)\n"
          ],
          "name": "stderr"
        },
        {
          "output_type": "display_data",
          "data": {
            "image/png": "[encoded data removed]",
            "text/plain": [
              "<Figure size 432x288 with 1 Axes>"
            ]
          },
          "metadata": {
            "tags": []
          }
        },
        {
          "output_type": "stream",
          "text": [
            "None\n"
          ],
          "name": "stdout"
        }
      ]
    },
    {
      "cell_type": "markdown",
      "metadata": {
        "deletable": false,
        "editable": false,
        "nbgrader": {
          "checksum": "9229f3626bea7238f91b319b76f8d6c1",
          "grade": false,
          "grade_id": "cell-1f4af152457c700f",
          "locked": true,
          "schema_version": 1,
          "solution": false
        },
        "id": "t1USbOiZ8Wfo",
        "colab_type": "text"
      },
      "source": [
        "What is the best choice of k? "
      ]
    },
    {
      "cell_type": "code",
      "metadata": {
        "deletable": false,
        "nbgrader": {
          "checksum": "e686f8bb8933c06c0b80f1d3a0ab7c4c",
          "grade": true,
          "grade_id": "cell-75f42d06e03fe139",
          "locked": false,
          "points": 1,
          "schema_version": 1,
          "solution": true
        },
        "id": "IiP-7-BI8Wfp",
        "colab_type": "code",
        "colab": {}
      },
      "source": [
        "# YOUR ANSWER HERE\n",
        "k=2"
      ],
      "execution_count": 35,
      "outputs": []
    },
    {
      "cell_type": "markdown",
      "metadata": {
        "deletable": false,
        "editable": false,
        "nbgrader": {
          "checksum": "4d1db294cd60c6368ab7f1cc287ac861",
          "grade": false,
          "grade_id": "cell-3f1e7c00e311da4b",
          "locked": true,
          "schema_version": 1,
          "solution": false
        },
        "id": "nR7L0bqm8Wft",
        "colab_type": "text"
      },
      "source": [
        "### Question 2 `(1 point)`\n",
        "What is the best choice of k according to the silhouette metric for clustering q7-q10? Only consider 2 <= k <= 8. "
      ]
    },
    {
      "cell_type": "code",
      "metadata": {
        "deletable": false,
        "nbgrader": {
          "checksum": "9cf8b96c08dc833c7b88ee35362ed959",
          "grade": false,
          "grade_id": "cell-dc62c66cc9acf621",
          "locked": false,
          "schema_version": 1,
          "solution": true
        },
        "id": "Jv9s-92L8Wft",
        "colab_type": "code",
        "colab": {
          "base_uri": "https://localhost:8080/",
          "height": 609
        },
        "outputId": "410199bb-0dd7-43fd-cf1f-ddd991384bbe"
      },
      "source": [
        "#Make sure you return the answer value in this function\n",
        "#The return value must be an integer\n",
        "def q2(df):\n",
        "  df = df[['q7', 'q8', 'q9', 'q10']]\n",
        "  df = df.dropna()\n",
        "\n",
        "  df=df.dropna(axis=0, how='any', thresh=None, subset=None,\n",
        "           inplace=False)\n",
        "  Scores = []  # 存放轮廓系数\n",
        "  for k in range(2,8):\n",
        "    estimator = KMeans(n_clusters=k)  # 构造聚类器\n",
        "    estimator.fit(df[['q7','q8','q9','q10']])\n",
        "    Scores.append(silhouette_score(df[['q7','q8','q9','q10']],estimator.labels_,metric='euclidean'))\n",
        "  X = range(2,8)\n",
        "  plt.xlabel('k')\n",
        "  plt.ylabel('轮廓系数')\n",
        "  plt.plot(X,Scores,'o-')\n",
        "  plt.show() \n",
        "    # YOUR CODE HERE\n",
        "    \n",
        "print(q2(df))"
      ],
      "execution_count": 61,
      "outputs": [
        {
          "output_type": "stream",
          "text": [
            "/usr/local/lib/python3.6/dist-packages/matplotlib/backends/backend_agg.py:214: RuntimeWarning: Glyph 36718 missing from current font.\n",
            "  font.set_text(s, 0.0, flags=flags)\n",
            "/usr/local/lib/python3.6/dist-packages/matplotlib/backends/backend_agg.py:214: RuntimeWarning: Glyph 24275 missing from current font.\n",
            "  font.set_text(s, 0.0, flags=flags)\n",
            "/usr/local/lib/python3.6/dist-packages/matplotlib/backends/backend_agg.py:214: RuntimeWarning: Glyph 31995 missing from current font.\n",
            "  font.set_text(s, 0.0, flags=flags)\n",
            "/usr/local/lib/python3.6/dist-packages/matplotlib/backends/backend_agg.py:214: RuntimeWarning: Glyph 25968 missing from current font.\n",
            "  font.set_text(s, 0.0, flags=flags)\n",
            "/usr/local/lib/python3.6/dist-packages/matplotlib/backends/backend_agg.py:183: RuntimeWarning: Glyph 36718 missing from current font.\n",
            "  font.set_text(s, 0, flags=flags)\n",
            "/usr/local/lib/python3.6/dist-packages/matplotlib/backends/backend_agg.py:183: RuntimeWarning: Glyph 24275 missing from current font.\n",
            "  font.set_text(s, 0, flags=flags)\n",
            "/usr/local/lib/python3.6/dist-packages/matplotlib/backends/backend_agg.py:183: RuntimeWarning: Glyph 31995 missing from current font.\n",
            "  font.set_text(s, 0, flags=flags)\n",
            "/usr/local/lib/python3.6/dist-packages/matplotlib/backends/backend_agg.py:183: RuntimeWarning: Glyph 25968 missing from current font.\n",
            "  font.set_text(s, 0, flags=flags)\n"
          ],
          "name": "stderr"
        },
        {
          "output_type": "display_data",
          "data": {
            "image/png": "[encoded data removed]",
            "text/plain": [
              "<Figure size 432x288 with 1 Axes>"
            ]
          },
          "metadata": {
            "tags": []
          }
        },
        {
          "output_type": "stream",
          "text": [
            "None\n"
          ],
          "name": "stdout"
        }
      ]
    },
    {
      "cell_type": "markdown",
      "metadata": {
        "deletable": false,
        "editable": false,
        "nbgrader": {
          "checksum": "13a5d949504f1ed6dbf3bf474d135175",
          "grade": false,
          "grade_id": "cell-a798fe1067889c85",
          "locked": true,
          "schema_version": 1,
          "solution": false
        },
        "id": "ohkPzjsf8Wfz",
        "colab_type": "text"
      },
      "source": [
        "What is the best choice of k? "
      ]
    },
    {
      "cell_type": "code",
      "metadata": {
        "deletable": false,
        "nbgrader": {
          "checksum": "39518f72ac99d22c2be6e053d683ecb3",
          "grade": true,
          "grade_id": "cell-b9c0fc321a251e1e",
          "locked": false,
          "points": 0.5,
          "schema_version": 1,
          "solution": true
        },
        "id": "WwlzPYjj8Wf0",
        "colab_type": "code",
        "colab": {
          "base_uri": "https://localhost:8080/",
          "height": 35
        },
        "outputId": "daff4e5c-e587-48c0-efaa-692fbeee51c7"
      },
      "source": [
        "# YOUR ANSWER HERE\n",
        "2\n"
      ],
      "execution_count": 62,
      "outputs": [
        {
          "output_type": "execute_result",
          "data": {
            "text/plain": [
              "2"
            ]
          },
          "metadata": {
            "tags": []
          },
          "execution_count": 62
        }
      ]
    },
    {
      "cell_type": "markdown",
      "metadata": {
        "deletable": false,
        "editable": false,
        "nbgrader": {
          "checksum": "685cbed1a7666b907cfd74876798b246",
          "grade": false,
          "grade_id": "cell-abc5d1274688008b",
          "locked": true,
          "schema_version": 1,
          "solution": false
        },
        "id": "QW6AW5SN8Wf3",
        "colab_type": "text"
      },
      "source": [
        "### Question 3 `(1 point)`\n",
        "What is the best choice of k according to the silhouette metric for clustering q11-q13? Only consider 2 <= k <= 8. "
      ]
    },
    {
      "cell_type": "code",
      "metadata": {
        "deletable": false,
        "nbgrader": {
          "checksum": "79b98812400934790474017de005b61b",
          "grade": false,
          "grade_id": "cell-fa2944f22a609780",
          "locked": false,
          "schema_version": 1,
          "solution": true
        },
        "id": "FU0QGeDx8Wf6",
        "colab_type": "code",
        "colab": {
          "base_uri": "https://localhost:8080/",
          "height": 608
        },
        "outputId": "659778e9-bb56-4b81-87af-2173f19d4848"
      },
      "source": [
        "#Make sure you return the answer value in this function\n",
        "#The return value must be an integer\n",
        "def q3(df):\n",
        "  df=df.dropna(axis=0, how='any', thresh=None, subset=None,\n",
        "           inplace=False)\n",
        "  Scores = []  # 存放轮廓系数\n",
        "  for k in range(2,8):\n",
        "    estimator = KMeans(n_clusters=k)  # 构造聚类器\n",
        "    estimator.fit(df[['q11','q12','q13']])\n",
        "    Scores.append(silhouette_score(df[['q11','q12','q13']],estimator.labels_,metric='euclidean'))\n",
        "  X = range(2,8)\n",
        "  plt.xlabel('k')\n",
        "  plt.ylabel('轮廓系数')\n",
        "  plt.plot(X,Scores,'o-')\n",
        "  plt.show() \n",
        "    # YOUR CODE HERE\n",
        "  \n",
        "print(q3(df))"
      ],
      "execution_count": 47,
      "outputs": [
        {
          "output_type": "stream",
          "text": [
            "/usr/local/lib/python3.6/dist-packages/matplotlib/backends/backend_agg.py:214: RuntimeWarning: Glyph 36718 missing from current font.\n",
            "  font.set_text(s, 0.0, flags=flags)\n",
            "/usr/local/lib/python3.6/dist-packages/matplotlib/backends/backend_agg.py:214: RuntimeWarning: Glyph 24275 missing from current font.\n",
            "  font.set_text(s, 0.0, flags=flags)\n",
            "/usr/local/lib/python3.6/dist-packages/matplotlib/backends/backend_agg.py:214: RuntimeWarning: Glyph 31995 missing from current font.\n",
            "  font.set_text(s, 0.0, flags=flags)\n",
            "/usr/local/lib/python3.6/dist-packages/matplotlib/backends/backend_agg.py:214: RuntimeWarning: Glyph 25968 missing from current font.\n",
            "  font.set_text(s, 0.0, flags=flags)\n",
            "/usr/local/lib/python3.6/dist-packages/matplotlib/backends/backend_agg.py:183: RuntimeWarning: Glyph 36718 missing from current font.\n",
            "  font.set_text(s, 0, flags=flags)\n",
            "/usr/local/lib/python3.6/dist-packages/matplotlib/backends/backend_agg.py:183: RuntimeWarning: Glyph 24275 missing from current font.\n",
            "  font.set_text(s, 0, flags=flags)\n",
            "/usr/local/lib/python3.6/dist-packages/matplotlib/backends/backend_agg.py:183: RuntimeWarning: Glyph 31995 missing from current font.\n",
            "  font.set_text(s, 0, flags=flags)\n",
            "/usr/local/lib/python3.6/dist-packages/matplotlib/backends/backend_agg.py:183: RuntimeWarning: Glyph 25968 missing from current font.\n",
            "  font.set_text(s, 0, flags=flags)\n"
          ],
          "name": "stderr"
        },
        {
          "output_type": "display_data",
          "data": {
            "image/png": "[encoded data removed]",
            "text/plain": [
              "<Figure size 432x288 with 1 Axes>"
            ]
          },
          "metadata": {
            "tags": []
          }
        },
        {
          "output_type": "stream",
          "text": [
            "None\n"
          ],
          "name": "stdout"
        }
      ]
    },
    {
      "cell_type": "markdown",
      "metadata": {
        "deletable": false,
        "editable": false,
        "nbgrader": {
          "checksum": "7f1e4d9e7bc46ed5b72756983c3ea7d1",
          "grade": false,
          "grade_id": "cell-ffde459d3d7f30d4",
          "locked": true,
          "schema_version": 1,
          "solution": false
        },
        "id": "Y-5NyKXZ8Wf_",
        "colab_type": "text"
      },
      "source": [
        "What is the best choice of k?"
      ]
    },
    {
      "cell_type": "code",
      "metadata": {
        "deletable": false,
        "nbgrader": {
          "checksum": "286a814a2fc12cff437655784716f2d7",
          "grade": true,
          "grade_id": "cell-dd60c729c46b5610",
          "locked": false,
          "points": 0.5,
          "schema_version": 1,
          "solution": true
        },
        "id": "AZfZebXo8WgB",
        "colab_type": "code",
        "colab": {
          "base_uri": "https://localhost:8080/",
          "height": 35
        },
        "outputId": "30c4e86e-c823-47b2-ff08-d184f8476b71"
      },
      "source": [
        "# YOUR ANSWER HERE\n",
        "7"
      ],
      "execution_count": 53,
      "outputs": [
        {
          "output_type": "execute_result",
          "data": {
            "text/plain": [
              "7"
            ]
          },
          "metadata": {
            "tags": []
          },
          "execution_count": 53
        }
      ]
    },
    {
      "cell_type": "markdown",
      "metadata": {
        "deletable": false,
        "editable": false,
        "nbgrader": {
          "checksum": "a18ebc832af60a47193b79496235a06c",
          "grade": false,
          "grade_id": "cell-3bf4719c7aa218c6",
          "locked": true,
          "schema_version": 1,
          "solution": false
        },
        "id": "aQMzO6nF8WgJ",
        "colab_type": "text"
      },
      "source": [
        "### Question 4 `(1 point)`\n",
        "Consider the best cluster from Question 3 and List the number of data points in each cluster."
      ]
    },
    {
      "cell_type": "code",
      "metadata": {
        "deletable": false,
        "nbgrader": {
          "checksum": "cc9c33b42265e3a41d8fefb18770a4e8",
          "grade": false,
          "grade_id": "cell-24fde636c2f83a67",
          "locked": false,
          "schema_version": 1,
          "solution": true
        },
        "id": "ztW4Dgbc8WgN",
        "colab_type": "code",
        "colab": {}
      },
      "source": [
        "#Make sure you return the answer value in this function\n",
        "#The return value must be an dictionary. Eg : {0:1000,1:500,2:1460}\n",
        "def q4(df):\n",
        "  \n",
        "\n",
        "    # YOUR CODE HERE\n",
        "    raise NotImplementedError()"
      ],
      "execution_count": 59,
      "outputs": []
    },
    {
      "cell_type": "code",
      "metadata": {
        "deletable": false,
        "editable": false,
        "nbgrader": {
          "checksum": "99637ce263f2207d1701716f5f1f44ca",
          "grade": true,
          "grade_id": "cell-2deca552fa9f803f",
          "locked": true,
          "points": 1,
          "schema_version": 1,
          "solution": false
        },
        "id": "iIUdLPIw8WgQ",
        "colab_type": "code",
        "colab": {
          "base_uri": "https://localhost:8080/",
          "height": 315
        },
        "outputId": "0b4b786c-bba0-4fc3-bc5f-faec981300fb"
      },
      "source": [
        "#This is an autograded cell, do not edit\n",
        "print(q4(df))"
      ],
      "execution_count": 60,
      "outputs": [
        {
          "output_type": "error",
          "ename": "AttributeError",
          "evalue": "ignored",
          "traceback": [
            "\u001b[0;31m---------------------------------------------------------------------------\u001b[0m",
            "\u001b[0;31mAttributeError\u001b[0m                            Traceback (most recent call last)",
            "\u001b[0;32m<ipython-input-60-c790c102b074>\u001b[0m in \u001b[0;36m<module>\u001b[0;34m()\u001b[0m\n\u001b[1;32m      1\u001b[0m \u001b[0;31m#This is an autograded cell, do not edit\u001b[0m\u001b[0;34m\u001b[0m\u001b[0;34m\u001b[0m\u001b[0;34m\u001b[0m\u001b[0m\n\u001b[0;32m----> 2\u001b[0;31m \u001b[0mprint\u001b[0m\u001b[0;34m(\u001b[0m\u001b[0mq4\u001b[0m\u001b[0;34m(\u001b[0m\u001b[0mdf\u001b[0m\u001b[0;34m)\u001b[0m\u001b[0;34m)\u001b[0m\u001b[0;34m\u001b[0m\u001b[0;34m\u001b[0m\u001b[0m\n\u001b[0m",
            "\u001b[0;32m<ipython-input-59-0bc0901575b1>\u001b[0m in \u001b[0;36mq4\u001b[0;34m(df)\u001b[0m\n\u001b[1;32m      5\u001b[0m     \u001b[0mclf_KMeans\u001b[0m \u001b[0;34m=\u001b[0m \u001b[0mKMeans\u001b[0m\u001b[0;34m(\u001b[0m\u001b[0mn_clusters\u001b[0m\u001b[0;34m=\u001b[0m\u001b[0;36m3\u001b[0m\u001b[0;34m,\u001b[0m \u001b[0mmax_iter\u001b[0m\u001b[0;34m=\u001b[0m\u001b[0;36m10\u001b[0m\u001b[0;34m)\u001b[0m\u001b[0;34m\u001b[0m\u001b[0;34m\u001b[0m\u001b[0m\n\u001b[1;32m      6\u001b[0m     \u001b[0;31m# 模型训练。得到预测值。\u001b[0m\u001b[0;34m\u001b[0m\u001b[0;34m\u001b[0m\u001b[0;34m\u001b[0m\u001b[0m\n\u001b[0;32m----> 7\u001b[0;31m     \u001b[0mprint\u001b[0m \u001b[0;34m(\u001b[0m\u001b[0mclf_KMeans\u001b[0m\u001b[0;34m.\u001b[0m\u001b[0mcluster_centers_\u001b[0m\u001b[0;34m)\u001b[0m\u001b[0;34m\u001b[0m\u001b[0;34m\u001b[0m\u001b[0m\n\u001b[0m\u001b[1;32m      8\u001b[0m     \u001b[0mquantity\u001b[0m \u001b[0;34m=\u001b[0m \u001b[0mpd\u001b[0m\u001b[0;34m.\u001b[0m\u001b[0mSeries\u001b[0m\u001b[0;34m(\u001b[0m\u001b[0mclf_KMeans\u001b[0m\u001b[0;34m.\u001b[0m\u001b[0mlabels_\u001b[0m\u001b[0;34m)\u001b[0m\u001b[0;34m.\u001b[0m\u001b[0mvalue_counts\u001b[0m\u001b[0;34m(\u001b[0m\u001b[0;34m)\u001b[0m\u001b[0;34m\u001b[0m\u001b[0;34m\u001b[0m\u001b[0m\n\u001b[1;32m      9\u001b[0m     \u001b[0mprint\u001b[0m \u001b[0;34m(\u001b[0m\u001b[0mquantity\u001b[0m\u001b[0;34m)\u001b[0m\u001b[0;34m\u001b[0m\u001b[0;34m\u001b[0m\u001b[0m\n",
            "\u001b[0;31mAttributeError\u001b[0m: 'KMeans' object has no attribute 'cluster_centers_'"
          ]
        }
      ]
    },
    {
      "cell_type": "markdown",
      "metadata": {
        "deletable": false,
        "editable": false,
        "nbgrader": {
          "checksum": "f455a94d03bf20a31ce26a2da672ee98",
          "grade": false,
          "grade_id": "cell-4277f89074807c16",
          "locked": true,
          "schema_version": 1,
          "solution": false
        },
        "id": "xgii61fI8WgT",
        "colab_type": "text"
      },
      "source": [
        "### Question 5 `(1 point)`\n",
        "Consider the best cluster from Question 3. Were there clusters that represented very funny but useless reviewers (check column definitions for columns corresponding to funny, useless etc)?  If so, print the center of that cluster."
      ]
    },
    {
      "cell_type": "code",
      "metadata": {
        "deletable": false,
        "nbgrader": {
          "checksum": "d2664de57a82a4d02c7d529617a1450c",
          "grade": false,
          "grade_id": "cell-550e8e6942843343",
          "locked": false,
          "schema_version": 1,
          "solution": true
        },
        "id": "_XzB8j6f8WgU",
        "colab_type": "code",
        "colab": {}
      },
      "source": [
        "#Make sure you return the answer value in this function\n",
        "#The return value must be an Array. Eg : [10,30,54]\n",
        "def q5(df):\n",
        "    \n",
        "    # YOUR CODE HERE\n",
        "    raise NotImplementedError()"
      ],
      "execution_count": null,
      "outputs": []
    },
    {
      "cell_type": "code",
      "metadata": {
        "deletable": false,
        "editable": false,
        "nbgrader": {
          "checksum": "36e1fb3627b616460376cfe2db01762c",
          "grade": true,
          "grade_id": "cell-5c9ad8f64f9e3cb9",
          "locked": true,
          "points": 1,
          "schema_version": 1,
          "solution": false
        },
        "id": "g22ke0I48WgX",
        "colab_type": "code",
        "colab": {}
      },
      "source": [
        "#This is an autograded cell, do not edit\n",
        "print(np.round_(q5(df), decimals=1, out=None))"
      ],
      "execution_count": null,
      "outputs": []
    },
    {
      "cell_type": "markdown",
      "metadata": {
        "deletable": false,
        "editable": false,
        "nbgrader": {
          "checksum": "423fac1c99ce7c9090dd9e96e6778777",
          "grade": false,
          "grade_id": "cell-303792a4ac61cb3a",
          "locked": true,
          "schema_version": 1,
          "solution": false
        },
        "id": "U2yg2Z2_8Wgd",
        "colab_type": "text"
      },
      "source": [
        "### Question 6 `(1 point)`\n",
        "Consider the best cluster from Question 3. How many reviewers were in the cluster that represented relatively equal strength in all voting categories"
      ]
    },
    {
      "cell_type": "code",
      "metadata": {
        "deletable": false,
        "nbgrader": {
          "checksum": "9b6ebc1ed5ed8d8042dcf7cd49952b57",
          "grade": false,
          "grade_id": "cell-391c7439f978dff8",
          "locked": false,
          "schema_version": 1,
          "solution": true
        },
        "id": "94isPDi08Wgf",
        "colab_type": "code",
        "colab": {}
      },
      "source": [
        "#Make sure you return the answer value in this function\n",
        "#The return value must be an Array. Eg : [10,30,54]\n",
        "def q6(df):\n",
        "    \n",
        "    # YOUR CODE HERE\n",
        "    raise NotImplementedError()"
      ],
      "execution_count": null,
      "outputs": []
    },
    {
      "cell_type": "code",
      "metadata": {
        "deletable": false,
        "editable": false,
        "nbgrader": {
          "checksum": "cfcf6b7a02a8426368b49ab70898113b",
          "grade": true,
          "grade_id": "cell-4a75c628cdd62ed3",
          "locked": true,
          "points": 1,
          "schema_version": 1,
          "solution": false
        },
        "id": "GKePHYay8Wgl",
        "colab_type": "code",
        "colab": {}
      },
      "source": [
        "#This is an autograded cell, do not edit\n",
        "print(q6(df))"
      ],
      "execution_count": null,
      "outputs": []
    },
    {
      "cell_type": "markdown",
      "metadata": {
        "deletable": false,
        "editable": false,
        "nbgrader": {
          "checksum": "7277b47e7131491c1b5bc8487bc7f848",
          "grade": false,
          "grade_id": "cell-b29200abdbf3f648",
          "locked": true,
          "schema_version": 1,
          "solution": false
        },
        "id": "BlCXYH7J8Wgp",
        "colab_type": "text"
      },
      "source": [
        "### Question 7 `(1 point)`\n",
        "Cluster the dataset using $k = 5$ and using features q7-q15 (refer to the column descriptions if needed).\n",
        "What is the silhouette metric for this clustering?\n",
        "For a more in-depth understanding of cluster analysis with silhouette, look [here](http://scikit-learn.org/stable/auto_examples/cluster/plot_kmeans_silhouette_analysis.html)"
      ]
    },
    {
      "cell_type": "code",
      "metadata": {
        "deletable": false,
        "nbgrader": {
          "checksum": "aadc8b4d3daea84bcdf7326f7d9e1e48",
          "grade": false,
          "grade_id": "cell-692872a9776a2f81",
          "locked": false,
          "schema_version": 1,
          "solution": true
        },
        "id": "P5AW-1Hj8Wgq",
        "colab_type": "code",
        "colab": {}
      },
      "source": [
        "#Make sure you return the answer value in this function\n",
        "#The return value must be a float\n",
        "def q7(df):\n",
        "    \n",
        "    # YOUR CODE HERE\n",
        "    raise NotImplementedError()"
      ],
      "execution_count": null,
      "outputs": []
    },
    {
      "cell_type": "code",
      "metadata": {
        "deletable": false,
        "editable": false,
        "nbgrader": {
          "checksum": "7c847dc80333efefec63b12bce9a3c23",
          "grade": true,
          "grade_id": "cell-d5a3ed8462b9b40b",
          "locked": true,
          "points": 1,
          "schema_version": 1,
          "solution": false
        },
        "id": "Kx23kyP18Wgw",
        "colab_type": "code",
        "colab": {}
      },
      "source": [
        "#This is an autograded cell, do not edit\n",
        "print(q7(df))"
      ],
      "execution_count": null,
      "outputs": []
    },
    {
      "cell_type": "markdown",
      "metadata": {
        "deletable": false,
        "editable": false,
        "nbgrader": {
          "checksum": "b5206e977bdec3a2a2da9a55d42539e1",
          "grade": false,
          "grade_id": "cell-bb20d152047de4c0",
          "locked": true,
          "schema_version": 1,
          "solution": false
        },
        "id": "ghXtWRlm8Wg1",
        "colab_type": "text"
      },
      "source": [
        "### Question 8 `(1 point)`\n",
        "Cluster the dataset using $k = 5$ and using features q7-q15 (refer to the column descriptions if needed).\n",
        "\n",
        "What was the average q3 among the points in each of the clusters?"
      ]
    },
    {
      "cell_type": "code",
      "metadata": {
        "deletable": false,
        "nbgrader": {
          "checksum": "cec8fcc62994a8c42d2a828240cf8d70",
          "grade": false,
          "grade_id": "cell-ce75d2c2b37a5939",
          "locked": false,
          "schema_version": 1,
          "solution": true
        },
        "id": "7VLNa7ZT8Wg2",
        "colab_type": "code",
        "colab": {}
      },
      "source": [
        "#Make sure you return the answer value in this function\n",
        "#The return value must be an Array. Eg : [10,30,54]\n",
        "def q8(df):\n",
        "    \n",
        "    # YOUR CODE HERE\n",
        "    raise NotImplementedError()"
      ],
      "execution_count": null,
      "outputs": []
    },
    {
      "cell_type": "code",
      "metadata": {
        "deletable": false,
        "editable": false,
        "nbgrader": {
          "checksum": "8fcac0a1587052a68abfd2dc22e6a444",
          "grade": true,
          "grade_id": "cell-125a523ba764c027",
          "locked": true,
          "points": 1,
          "schema_version": 1,
          "solution": false
        },
        "id": "uU1zA9hQ8Wg7",
        "colab_type": "code",
        "colab": {}
      },
      "source": [
        "#This is an autograded cell, do not edit\n",
        "print(np.round_(q8(df), decimals=1, out=None))"
      ],
      "execution_count": null,
      "outputs": []
    },
    {
      "cell_type": "markdown",
      "metadata": {
        "deletable": false,
        "editable": false,
        "nbgrader": {
          "checksum": "539014b1c77f0d5159b9158216999ffa",
          "grade": false,
          "grade_id": "cell-32dc52f985a4469b",
          "locked": true,
          "schema_version": 1,
          "solution": false
        },
        "id": "ImMBccCv8WhE",
        "colab_type": "text"
      },
      "source": [
        "### Question 9 `(2 points)`\n",
        "**This question will be manually graded.**\n",
        "\n",
        "Cluster the dataset using all features in the dataset\n",
        "\n",
        "We can drop features with high incidents of -Inf / blank / or NaN values). It is suggested that you perform some form of normalization on these question 16 features so as not to over bias the clustering towards the larger magnitude features. Let's do that now.\n",
        "\n",
        "#### Data Cleansing and Normalization ####\n",
        "Check how many null values there are in each column."
      ]
    },
    {
      "cell_type": "code",
      "metadata": {
        "deletable": false,
        "editable": false,
        "nbgrader": {
          "checksum": "26c5eee0748fe77d6f219f2f654adc69",
          "grade": false,
          "grade_id": "cell-00e25d9828db774a",
          "locked": true,
          "schema_version": 1,
          "solution": false
        },
        "id": "vdt07lvl8WhH",
        "colab_type": "code",
        "colab": {}
      },
      "source": [
        "# YOUR CODE HERE"
      ],
      "execution_count": null,
      "outputs": []
    },
    {
      "cell_type": "markdown",
      "metadata": {
        "deletable": false,
        "editable": false,
        "nbgrader": {
          "checksum": "059796c35a25a2239b6af643d573077c",
          "grade": false,
          "grade_id": "cell-dda1709aadca4b74",
          "locked": true,
          "schema_version": 1,
          "solution": false
        },
        "id": "yzAo6QRS8WhO",
        "colab_type": "text"
      },
      "source": [
        "It looks like q8 - q13 and q16ab have a lot of null values, especially q8 and q9. Let's see what the impact is of removing some of these columns before removing any columns"
      ]
    },
    {
      "cell_type": "code",
      "metadata": {
        "deletable": false,
        "editable": false,
        "nbgrader": {
          "checksum": "c9201f034d5527471e11c4bdf4259a06",
          "grade": false,
          "grade_id": "cell-e67e9b14f016567d",
          "locked": true,
          "schema_version": 1,
          "solution": false
        },
        "id": "pSrZ9i3g8WhQ",
        "colab_type": "code",
        "colab": {}
      },
      "source": [
        "# YOUR CODE HERE"
      ],
      "execution_count": null,
      "outputs": []
    },
    {
      "cell_type": "markdown",
      "metadata": {
        "deletable": false,
        "editable": false,
        "nbgrader": {
          "checksum": "55ec19beab75bcb01d51763aa77b7c7d",
          "grade": false,
          "grade_id": "cell-0832f08869a19534",
          "locked": true,
          "schema_version": 1,
          "solution": false
        },
        "id": "gQbRuq_Z8Whb",
        "colab_type": "text"
      },
      "source": [
        "By removing 2 features, we effectively have double the number of rows remaining. That's pretty good.  \n",
        "Preprocess categorical variables to dummy values."
      ]
    },
    {
      "cell_type": "code",
      "metadata": {
        "deletable": false,
        "editable": false,
        "nbgrader": {
          "checksum": "9520a1834882784cba16fa1e635aeb9e",
          "grade": false,
          "grade_id": "cell-46dc2129f7ac4991",
          "locked": true,
          "schema_version": 1,
          "solution": false
        },
        "id": "xnXUaCHl8Whc",
        "colab_type": "code",
        "colab": {}
      },
      "source": [
        "# YOUR CODE HERE"
      ],
      "execution_count": null,
      "outputs": []
    },
    {
      "cell_type": "markdown",
      "metadata": {
        "deletable": false,
        "editable": false,
        "nbgrader": {
          "checksum": "7409a97cd6cc5a2203cb5953fd78951e",
          "grade": false,
          "grade_id": "cell-0bf07ed81b15a7c6",
          "locked": true,
          "schema_version": 1,
          "solution": false
        },
        "id": "AGnnilDI8Whl",
        "colab_type": "text"
      },
      "source": [
        "Now normalize the remaining values"
      ]
    },
    {
      "cell_type": "code",
      "metadata": {
        "deletable": false,
        "editable": false,
        "nbgrader": {
          "checksum": "d415896af702471cbf3bad5e3bbf2298",
          "grade": false,
          "grade_id": "cell-d0c0fa3af31b680b",
          "locked": true,
          "schema_version": 1,
          "solution": false
        },
        "id": "-tYTGviT8Whm",
        "colab_type": "code",
        "colab": {}
      },
      "source": [
        "# YOUR CODE HERE"
      ],
      "execution_count": null,
      "outputs": []
    },
    {
      "cell_type": "markdown",
      "metadata": {
        "deletable": false,
        "editable": false,
        "nbgrader": {
          "checksum": "26e9bec01f855d44456f65879afa7ccf",
          "grade": false,
          "grade_id": "cell-be1b2a4ecbcb5558",
          "locked": true,
          "schema_version": 1,
          "solution": false
        },
        "id": "jSJjHlsc8Wht",
        "colab_type": "text"
      },
      "source": [
        "Using the the `sum of within cluster variance` metric with the elbow method what was the best k?"
      ]
    },
    {
      "cell_type": "code",
      "metadata": {
        "deletable": false,
        "nbgrader": {
          "checksum": "3971d6b7067c2e2b586a79b0fca34252",
          "grade": true,
          "grade_id": "cell-f49f54902337159c",
          "locked": false,
          "points": 2,
          "schema_version": 1,
          "solution": true
        },
        "id": "HoZOPumL8Whv",
        "colab_type": "code",
        "colab": {}
      },
      "source": [
        "# YOUR CODE HERE\n",
        "raise NotImplementedError()"
      ],
      "execution_count": null,
      "outputs": []
    },
    {
      "cell_type": "markdown",
      "metadata": {
        "deletable": false,
        "editable": false,
        "nbgrader": {
          "checksum": "78e8416b2c9c63fb2e91cc747a982eb9",
          "grade": false,
          "grade_id": "cell-ed56b09f2baf02c7",
          "locked": true,
          "schema_version": 1,
          "solution": false
        },
        "id": "_-cRpVgA8Wh2",
        "colab_type": "text"
      },
      "source": [
        "### Question 10 `(1 points)`\n",
        "**This question will be manually graded.**\n",
        "\n",
        "For this question please come up with your own question about this dataset and using a clustering technique as part of your method of answering it. Describe in short the question, and how clustering can answer that question.\n"
      ]
    },
    {
      "cell_type": "code",
      "metadata": {
        "deletable": false,
        "nbgrader": {
          "checksum": "5ec519964252120ba10b8ea5633da3d3",
          "grade": true,
          "grade_id": "cell-01090109d82adc22",
          "locked": false,
          "points": 1,
          "schema_version": 1,
          "solution": true
        },
        "id": "vGcMVdVM8Wh6",
        "colab_type": "code",
        "colab": {}
      },
      "source": [
        "# YOUR CODE HERE\n",
        "raise NotImplementedError()"
      ],
      "execution_count": null,
      "outputs": []
    },
    {
      "cell_type": "markdown",
      "metadata": {
        "deletable": false,
        "editable": false,
        "nbgrader": {
          "checksum": "47c18987b74081b9f0e201d36229f33d",
          "grade": false,
          "grade_id": "cell-b549ed2cba475bb7",
          "locked": true,
          "schema_version": 1,
          "solution": false
        },
        "id": "Ylv6UWqm8WiC",
        "colab_type": "text"
      },
      "source": [
        "## Bonus question (`2 Points`) - Reviewer overlap:\n",
        "- Download last week's dataset\n",
        "- Aggregate cool, funny and useful votes for each business id\n",
        "- You may transform the aggregations (take %, log, or leave it as it is)\n",
        "- Cluster this dataframe (you can choose k). Do you find any meaningful/interesting clusters?\n",
        "- Assign the cluster label to each business id\n",
        "- Merge this with users to show what clusters the reviewers have reviewed. (You may need to use the pivot function) "
      ]
    },
    {
      "cell_type": "code",
      "metadata": {
        "deletable": false,
        "nbgrader": {
          "checksum": "b07907c97fe5a173c8ed578ba3d2876b",
          "grade": true,
          "grade_id": "cell-33aa50b382e692ca",
          "locked": false,
          "points": 2,
          "schema_version": 1,
          "solution": true
        },
        "id": "j319ReI98WiH",
        "colab_type": "code",
        "colab": {}
      },
      "source": [
        "# YOUR CODE HERE\n",
        "raise NotImplementedError()"
      ],
      "execution_count": null,
      "outputs": []
    }
  ]
}